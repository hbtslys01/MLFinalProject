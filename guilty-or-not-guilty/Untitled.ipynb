{
 "cells": [
  {
   "cell_type": "code",
   "execution_count": 225,
   "metadata": {},
   "outputs": [
    {
     "name": "stdout",
     "output_type": "stream",
     "text": [
      "<class 'pandas.core.series.Series'>\n",
      "{8: 'HEARING HELD-GUILTY', 9: 'HEARING HELD-GUILTY REDUCTION', 10: 'HEARING HELD-NOT GUILTY', 12: 'HEARING PENDING', 1: 'ADMIN CLAIM GRANTED', 6: 'APPEAL REVERSED', 7: 'HEARING ADJOURNMENT', 4: 'APPEAL AFFIRMED', 0: 'ADMIN CLAIM DENIED', 2: 'ADMIN REDUCTION', 11: 'HEARING HELD-REINSTATEMENT', 3: 'APPEAL ABANDONED', 5: 'APPEAL MODIFIED', 13: 'HEARING WAIVED'}\n"
     ]
    }
   ],
   "source": [
    "from sklearn.utils import shuffle\n",
    "import matplotlib.pyplot as plt\n",
    "from sklearn.svm import SVC\n",
    "import pandas as pd\n",
    "import numpy as np\n",
    "from sklearn.preprocessing import OrdinalEncoder, MinMaxScaler\n",
    "from datetime import datetime as dt\n",
    "\n",
    "\n",
    "def get_time(t):\n",
    "    dt.strptime(t, \"%m/%d/%Y\")\n",
    "def helper(t):\n",
    "    1\n",
    "\n",
    "# a = get_time(\"06/20/2015\")\n",
    "# b = get_time(\"06/08/2020\")\n",
    "# c = get_time(\"06/30/2010\")\n",
    "\n",
    "\n",
    "def process_data(data):\n",
    "    a = get_time(\"06/20/2015\")\n",
    "    b = get_time(\"06/08/2020\")\n",
    "    c = get_time(\"06/30/2010\")\n",
    "    temp = data[['State', 'License Type', 'Violation','County', 'Issuing Agency', 'Violation Status']]\n",
    "    temp = temp.dropna()\n",
    "    enc = OrdinalEncoder()\n",
    "    after_proce = enc.fit_transform(temp)\n",
    "    print(after_proce[0:10])\n",
    "    min_max_scaler = MinMaxScaler()\n",
    "    t = pd.to_numeric(data['Summons Number'].loc[1:]).values.reshape(-1,1)\n",
    "    print(t.shape)\n",
    "    X_train_minmax = min_max_scaler.fit_transform(t)\n",
    "#     issue_date = data['Issue Date']\n",
    "# #     issue_date = issue_date.dropna()\n",
    "# #     issue_date = pd.concat([pd.Series(['Issue Date']),issue_date.loc[1:].apply(get_time)])\n",
    "#     issue_date = issue_date.loc[1:].apply(lambda x : dt.strptime(x, \"%m/%d/%Y\"))\n",
    "#     print(issue_date.loc[0:7])\n",
    "#     issue_date.loc[(issue_date >= a) & (issue_date <= b)] = 2\n",
    "#     issue_date.loc[(issue_date >= c) & (issue_date < a)] = 1\n",
    "#     issue_date.loc[(issue_date < c) | (issue_date > b)] = 0\n",
    "#     print(issue_date.head(20))\n",
    "\n",
    "\n",
    "#import matplotlib.pyplot as plt\n",
    "data_train = pd.read_csv('train.csv', header=None)  # read dataset\n",
    "data_train.columns = ['ID','Plate','State','License Type','Summons Number','Issue Date','Violation Time','Violation','Judgment Entry Date','Fine Amount','Penalty Amount','Interest Amount','Reduction Amount','Payment Amount','Amount Due','Precinct','County','Issuing Agency','Violation Status']\n",
    "data_train_y = data_train.iloc[:, -1]\n",
    "data_train_x = data_train.iloc[:, 0:-1]\n",
    "# data_test = pd.read_csv('test.csv', header=None)  # read dataset\n",
    "# data_test_y = data_test.iloc[:, -1]\n",
    "# data_test_x = data_test.iloc[:, 0:-1]\n",
    "# process_data(data_train)\n",
    "\n",
    "x = data_train_y.iloc[1:].astype('category')\n",
    "print(type(x))\n",
    "print(dict(zip(x.cat.codes, x)))\n",
    "\n",
    "\n",
    "# t=pd.Series(pd.to_numeric(data_train['Summons Number'].loc[1:]))\n",
    "# t=pd.concat([pd.Series(['Summons Number']), t],axis=0).values.reshape(-1)[1:]\n",
    "# print(type(t))\n",
    "# enc = OrdinalEncoder()\n",
    "# ft = enc.fit(data_train_y.loc[1:].values.reshape(-1,1))\n",
    "# print(enc.transform(['HEARING HELD-GUILTY']))\n",
    "# after_proce = pd.Series(enc.fit_transform(data_train_y.loc[1:].values.reshape(-1,1)).reshape(-1))\n",
    "# after_proce = pd.concat([pd.Series(['Violation Status']), after_proce],axis=0).values.reshape(-1)[1:]\n",
    "# print(after_proce)\n",
    "# # data = np.concatenate((after_proce,t),axis=1)\n",
    "# # data = pd.concat([after_proce,t],axis=0)\n",
    "# # print(data[data.index.duplicated()])\n",
    "# # data = data[1:]\n",
    "# # data=pd.DataFrame(data=data[1:,1:],index=data[1:,0],columns=data[0,1:])\n",
    "# # print(data)\n",
    "# plt.scatter(t,after_proce)"
   ]
  },
  {
   "cell_type": "code",
   "execution_count": null,
   "metadata": {},
   "outputs": [],
   "source": []
  }
 ],
 "metadata": {
  "kernelspec": {
   "display_name": "Python 3",
   "language": "python",
   "name": "python3"
  },
  "language_info": {
   "codemirror_mode": {
    "name": "ipython",
    "version": 3
   },
   "file_extension": ".py",
   "mimetype": "text/x-python",
   "name": "python",
   "nbconvert_exporter": "python",
   "pygments_lexer": "ipython3",
   "version": "3.7.1"
  }
 },
 "nbformat": 4,
 "nbformat_minor": 2
}
