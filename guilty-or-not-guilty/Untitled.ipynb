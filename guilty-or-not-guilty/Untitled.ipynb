{
 "cells": [
  {
   "cell_type": "code",
   "execution_count": 21,
   "metadata": {},
   "outputs": [],
   "source": [
    "from sklearn.utils import shuffle\n",
    "import matplotlib.pyplot as plt\n",
    "from sklearn.svm import SVC\n",
    "import pandas as pd\n",
    "import numpy as np\n",
    "from datetime import datetime as dt\n",
    "import seaborn as sns\n",
    "\n",
    "\n",
    "\n",
    "#import matplotlib.pyplot as plt\n",
    "data_train = pd.read_csv('train.csv', header=None)  # read train dataset\n",
    "data_train.columns = ['ID','Plate','State','License Type','Summons Number','Issue Date','Violation Time','Violation','Judgment Entry Date','Fine Amount','Penalty Amount','Interest Amount','Reduction Amount','Payment Amount','Amount Due','Precinct','County','Issuing Agency','Violation Status']\n",
    "#clean data\n",
    "data_train = data_train[data_train['Issue Date']!='02/29/2017']\n",
    "data_train = data_train[(pd.isna(data_train['Violation Time']) == False)]\n",
    "\n",
    "data_train['Violation Time'] = data_train['Violation Time'].astype('str')\n",
    "data_train = data_train[(data_train['Violation Time'] != '22:22P')]#(data_train['Violation Time'] != '09:36') & (data_train['Violation Time'] != '09:45')\n",
    "\n",
    "data_train = data_train.loc[(data_train['Violation Time'].str.len()>5)]\n",
    "\n",
    "# y = data_train.iloc[:, -1]\n",
    "# y = y.loc[1:].astype('category')\n",
    "# y = y.cat.codes.values\n",
    "\n",
    "# data_train = data_train[(data_train['Violation Time'])!='10:48A']\n",
    "# data_train_y = data_train.iloc[:, -1]\n",
    "# data_train_x = data_train.iloc[:, 0:-1]\n",
    "# data_test = pd.read_csv('test.csv', header=None)  # read dataset\n",
    "# data_test_y = data_test.iloc[:, -1]\n",
    "# data_test_x = data_test.iloc[:, 0:-1]\n",
    "# process_data(data_train)\n",
    "\n",
    "\n",
    "# print(data_train_y.describe())\n",
    "\n",
    "\n",
    "\n",
    "# print(dict(zip(Y_train.cat.codes, Y_train)))\n",
    "# y = pd.concat([pd.Series(['Violation Status']), y],axis=0).values.reshape(-1)[1:]\n",
    "\n",
    "# sn = pd.Series(pd.to_numeric(data_train['Summons Number'].loc[1:]))\n",
    "# sn = pd.concat([pd.Series(['Summons Number']), sn],axis=0).values.reshape(-1)[1:]\n",
    "\n",
    "# plt.scatter(sn,y)\n",
    "# plt.title('Violation Status vs. Summons Number')\n",
    "# plt.xlabel('Summons Number')\n",
    "# plt.ylabel('Violation Status')\n",
    "# plt.show()\n",
    "\n",
    "\n",
    "\n",
    "\n"
   ]
  },
  {
   "cell_type": "code",
   "execution_count": 22,
   "metadata": {},
   "outputs": [],
   "source": [
    "# y = data_train['Violation Status'].astype('category')\n",
    "# print(dict(zip(y.cat.codes, y)))\n",
    "\n",
    "# dt = data_train.loc[data_train['State']=='NY']\n",
    "# st = dt['State']\n",
    "\n",
    "# y = dt['Violation Status'].astype('category').cat.codes.values\n",
    "# print(y.shape)\n"
   ]
  },
  {
   "cell_type": "code",
   "execution_count": 23,
   "metadata": {},
   "outputs": [],
   "source": [
    "\n",
    "# plt.hist(y)\n",
    "# plt.xlabel(\"Violation Status\")\n",
    "# plt.ylabel(\"Frequency\")\n",
    "# plt.title(\"NY State\")\n",
    "# plt.show()\n",
    "\n"
   ]
  },
  {
   "cell_type": "code",
   "execution_count": 89,
   "metadata": {},
   "outputs": [],
   "source": [
    "def data_process(data):\n",
    "    \n",
    "    \n",
    "    State = data['State'].loc[1:].astype('category')\n",
    "    State = State.apply(lambda x : 5 if x == 'NY' else 4 if x == 'NJ' else 3 if x == 'IN' else 2 if x == 'PA' else 1 if x == 'CT' else 0)\n",
    "    State = State.values.reshape(-1,1)\n",
    "\n",
    "    License_type = data['License Type'].loc[1:].astype('category')\n",
    "    License_type = License_type.apply(lambda x : 5 if x == 'PAS' else 4 if x == 'COM' else 3 if x == 'OMT' else 2 if x == 'IRP' else 1 if x == 'APP' else 0)\n",
    "    License_type = License_type.values.reshape(-1,1)\n",
    "\n",
    "    #convert date string to datetime. Can only process valid date.\n",
    "#     Issue_date=[]\n",
    "#     try:\n",
    "#         for i in range(data.shape[0]-1):\n",
    "    Issue_date = data['Issue Date'].loc[1:]\n",
    "    Issue_date = Issue_date.apply(lambda x : dt.strptime(x, \"%m/%d/%Y\"))\n",
    "#             Issue_date.append(dt.strptime(data['Issue Date'].iloc[i], \"%m/%d/%Y\"))\n",
    "#     except ValueError:\n",
    "#         print(data['Issue Date'].iloc[i])\n",
    "    Issue_date = pd.concat([pd.Series(['Issue Date']), Issue_date],axis=0)#.values.reshape(-1)\n",
    "    Issue_date_year = pd.to_numeric(Issue_date.loc[1:].apply(lambda x : dt.strftime(x, \"%Y\"))).values.reshape(-1,1)\n",
    "    Issue_date_mon = pd.to_numeric(Issue_date.loc[1:].apply(lambda x : dt.strftime(x, \"%m\"))).values.reshape(-1,1)\n",
    "    Issue_date_day = pd.to_numeric(Issue_date.loc[1:].apply(lambda x : dt.strftime(x, \"%d\"))).values.reshape(-1,1)\n",
    "    \n",
    "   \n",
    "    Violation_time = (data['Violation Time'].loc[1:]).apply(lambda x : x+\"M\")\n",
    "    Violation_time = (Violation_time.loc[1:]).apply(lambda x : \"12\"+x[2:] if (x[0:2]==\"00\" and x[-2:]==\"AM\") else x)\n",
    "    Violation_time = (Violation_time.loc[1:]).apply(lambda x : \"12\"+x[2:] if (x[0:2]==\"00\" and x[-2:]==\"PM\") else x)\n",
    "#     Violation_time = (Violation_time.loc[1:]).apply(lambda x : \"12\"+x[2:] if (x[0:2]==\"00\" and x[-2:]==\"PM\") else x)\n",
    "    Violation_time = (Violation_time.loc[1:]).apply(lambda x : dt.strptime(x, \"%I:%M%p\"))\n",
    "    t=pd.Series(np.zeros(Violation_time.shape[0]),index=Violation_time.index)\n",
    "    Violation_time = pd.concat([Violation_time,t], axis=1)\n",
    "    Violation_time.columns=['Temp','Violation_time']\n",
    "    vt_1 = pd.Timestamp(dt.strptime(\"12:00AM\", \"%I:%M%p\"))\n",
    "    vt_2 = pd.Timestamp(dt.strptime(\"03:00AM\", \"%I:%M%p\"))\n",
    "    vt_3 = pd.Timestamp(dt.strptime(\"06:00AM\", \"%I:%M%p\"))\n",
    "    vt_4 = pd.Timestamp(dt.strptime(\"09:00AM\", \"%I:%M%p\"))\n",
    "    vt_5 = pd.Timestamp(dt.strptime(\"12:00PM\", \"%I:%M%p\"))\n",
    "    vt_6 = pd.Timestamp(dt.strptime(\"03:00PM\", \"%I:%M%p\"))\n",
    "    vt_7 = pd.Timestamp(dt.strptime(\"06:00PM\", \"%I:%M%p\"))\n",
    "    vt_8 = pd.Timestamp(dt.strptime(\"09:00PM\", \"%I:%M%p\"))\n",
    "    vt_9 = pd.Timestamp(dt.strptime(\"11:59PM\", \"%I:%M%p\"))\n",
    "#     Violation_time.loc[(Violation_time['Temp']>= vt_1)& (Violation_time['Temp'] < vt_2),'Violation_time'] = 1\n",
    "#     Violation_time.loc[(Violation_time['Temp']>= vt_2)& (Violation_time['Temp'] < vt_3),'Violation_time'] = 2\n",
    "#     Violation_time.loc[(Violation_time['Temp']>= vt_3)& (Violation_time['Temp'] < vt_4),'Violation_time'] = 3\n",
    "#     Violation_time.loc[(Violation_time['Temp']>= vt_4)& (Violation_time['Temp'] < vt_5),'Violation_time'] = 4\n",
    "#     Violation_time.loc[(Violation_time['Temp']>= vt_5)& (Violation_time['Temp'] < vt_6),'Violation_time'] = 5\n",
    "#     Violation_time.loc[(Violation_time['Temp']>= vt_6)& (Violation_time['Temp'] < vt_7),'Violation_time'] = 6\n",
    "#     Violation_time.loc[(Violation_time['Temp']>= vt_7)& (Violation_time['Temp'] < vt_8),'Violation_time'] = 7\n",
    "#     Violation_time.loc[(Violation_time['Temp']>= vt_8)& (Violation_time['Temp'] < vt_9),'Violation_time'] = 8\n",
    "    Violation_time.loc[(Violation_time['Temp']>= vt_1)& (Violation_time['Temp'] < vt_3),'Violation_time'] = 1\n",
    "    Violation_time.loc[(Violation_time['Temp']>= vt_3)& (Violation_time['Temp'] < vt_5),'Violation_time'] = 2\n",
    "    Violation_time.loc[(Violation_time['Temp']>= vt_5)& (Violation_time['Temp'] < vt_7),'Violation_time'] = 3\n",
    "    Violation_time.loc[(Violation_time['Temp']>= vt_7)& (Violation_time['Temp'] < vt_9),'Violation_time'] = 3\n",
    "    Violation_time = Violation_time.iloc[:,1].values.reshape(-1,1)\n",
    "    Violation_time=np.int64(Violation_time)\n",
    "    \n",
    "    Violation = data['Violation'].loc[1:].astype('category')\n",
    "    Violation = Violation.cat.codes.values.reshape(-1,1)\n",
    "    \n",
    "    Fine_amount = pd.to_numeric(data['Fine Amount'].loc[1:])\n",
    "    interval = [-0.001, 25.75,51.5,77.25,103,128.75,515]\n",
    "    Fine_amount = pd.cut(Fine_amount,interval,labels=np.array([1,3,4,2,5,0])).cat.codes.values.reshape(-1,1)\n",
    "    \n",
    "    Penalty_amount = pd.to_numeric(data['Penalty Amount'].loc[1:])\n",
    "    interval = [-0.001,3,12,27,33,60]\n",
    "    Penalty_amount = pd.cut(Penalty_amount,interval,labels=np.array([4,3,0,1,2])).cat.codes.values.reshape(-1,1)\n",
    "    \n",
    "    Interest_amount = pd.to_numeric(data['Interest Amount'].loc[1:])\n",
    "    interval = [-0.001,13.75,275]\n",
    "    Interest_amount = pd.cut(Interest_amount,interval,labels=np.array([1,0])).cat.codes.values.reshape(-1,1)\n",
    "\n",
    "    Reduction_amount = pd.to_numeric(data['Reduction Amount'].loc[1:])\n",
    "    interval = [-0.001, 27.25,54.5,81.75,109,136.25,545]\n",
    "    Reduction_amount = pd.cut(Reduction_amount,interval,labels=np.array([5,4,3,1,2,0])).cat.codes.values.reshape(-1,1)\n",
    "\n",
    "    Payment_amount = pd.to_numeric(data['Payment Amount'].loc[1:])\n",
    "    interval = [-0.001, 34.45,68.91,103.36,137.81,172.26,206.72,689]\n",
    "    Payment_amount = pd.cut(Payment_amount,interval,labels=np.array([6,4,3,5,1,2,0])).cat.codes.values.reshape(-1,1)\n",
    "\n",
    "    Amount_due = pd.to_numeric(data['Amount Due'].loc[1:])\n",
    "    interval = [-0.001, 38.5,76.99,115.49,153.98,770]\n",
    "    Amount_due = pd.cut(Amount_due,interval,labels=np.array([4,2,3,1,0])).cat.codes.values.reshape(-1,1)\n",
    "\n",
    "    Precinct = pd.to_numeric(data['Precinct'].loc[1:])\n",
    "    interval = [-0.001, 23.6,47.2,70.8,94.4,118,141.6,472]\n",
    "    Precinct = pd.cut(Precinct,interval,labels=np.array([6,3,4,2,5,1,0])).cat.codes.values.reshape(-1,1)\n",
    "\n",
    "    County = data['County'].loc[1:].astype('category')\n",
    "    County = County.cat.codes.values.reshape(-1,1)\n",
    "    \n",
    "    Issuing_agency = data['Issuing Agency'].loc[1:].astype('category')\n",
    "    Issuing_agency = Issuing_agency.cat.codes.values.reshape(-1,1)\n",
    "\n",
    "    X = np.concatenate([State,License_type,Issue_date_year,Issue_date_mon,Issue_date_day,Violation,\n",
    "Fine_amount,Penalty_amount,Interest_amount,Reduction_amount,Payment_amount,Amount_due,Precinct,County,Issuing_agency],axis=1)\n",
    "    \n",
    "    return X"
   ]
  },
  {
   "cell_type": "code",
   "execution_count": 90,
   "metadata": {},
   "outputs": [],
   "source": [
    "from sklearn.svm import SVC\n",
    "from sklearn.model_selection import train_test_split\n",
    "Y_train = data_train.iloc[:, -1]\n",
    "Y_train = Y_train.loc[1:].astype('category')\n",
    "map = dict(zip(Y_train.cat.codes, Y_train))\n",
    "Y_train = Y_train.cat.codes.values\n",
    "\n",
    "X_trn = data_process(data_train)"
   ]
  },
  {
   "cell_type": "code",
   "execution_count": 91,
   "metadata": {},
   "outputs": [],
   "source": [
    "# a = X_trn[:,5]\n",
    "# print(a.shape)\n",
    "# a = a[a==1]\n",
    "# print(a.shape)\n",
    "# b = Y_train[X_trn[:,5]==2]\n",
    "# plt.hist(b)\n",
    "# plt.xlabel(\"Violation Status\")\n",
    "# plt.ylabel(\"Frequency\")\n",
    "# plt.title(\"Violation time between 3am-6am\")\n",
    "# plt.show()"
   ]
  },
  {
   "cell_type": "code",
   "execution_count": 92,
   "metadata": {},
   "outputs": [
    {
     "name": "stdout",
     "output_type": "stream",
     "text": [
      "(79982, 14)\n"
     ]
    }
   ],
   "source": [
    "\n",
    "X_training, X_validation, Y_training, Y_validation = train_test_split(X_trn, Y_train, test_size = 0.25, random_state = 1000)\n",
    "print(X_trn.shape)\n",
    "# print(map)"
   ]
  },
  {
   "cell_type": "code",
   "execution_count": 81,
   "metadata": {},
   "outputs": [],
   "source": [
    "# clf = SVC(C=100.0, kernel = 'linear', random_state=0)\n",
    "# clf.fit(X_trn, Y_trn)\n",
    "# print(clf.score(X_trn,Y_trn))"
   ]
  },
  {
   "cell_type": "code",
   "execution_count": 63,
   "metadata": {},
   "outputs": [
    {
     "name": "stdout",
     "output_type": "stream",
     "text": [
      "(59986, 16)\n"
     ]
    }
   ],
   "source": [
    "print(X_training.shape)\n"
   ]
  },
  {
   "cell_type": "code",
   "execution_count": 64,
   "metadata": {},
   "outputs": [
    {
     "name": "stdout",
     "output_type": "stream",
     "text": [
      "(59986,)\n"
     ]
    }
   ],
   "source": [
    "print(Y_training.shape)"
   ]
  },
  {
   "cell_type": "code",
   "execution_count": 31,
   "metadata": {},
   "outputs": [],
   "source": [
    "from sklearn.linear_model import LogisticRegression"
   ]
  },
  {
   "cell_type": "code",
   "execution_count": 126,
   "metadata": {},
   "outputs": [
    {
     "name": "stderr",
     "output_type": "stream",
     "text": [
      "/Users/liuyunshan/anaconda3/lib/python3.7/site-packages/sklearn/linear_model/sag.py:334: ConvergenceWarning: The max_iter was reached which means the coef_ did not converge\n",
      "  \"the coef_ did not converge\", ConvergenceWarning)\n"
     ]
    }
   ],
   "source": [
    "clf = LogisticRegression(penalty='l2',random_state=0, solver='sag',multi_class='multinomial').fit(X_training, Y_training)"
   ]
  },
  {
   "cell_type": "code",
   "execution_count": 127,
   "metadata": {},
   "outputs": [
    {
     "data": {
      "text/plain": [
       "0.7203847564431701"
      ]
     },
     "execution_count": 127,
     "metadata": {},
     "output_type": "execute_result"
    }
   ],
   "source": [
    "\n",
    "clf.score(X_training,Y_training)"
   ]
  },
  {
   "cell_type": "code",
   "execution_count": 93,
   "metadata": {},
   "outputs": [
    {
     "data": {
      "text/plain": [
       "0.8942253192411562"
      ]
     },
     "execution_count": 93,
     "metadata": {},
     "output_type": "execute_result"
    }
   ],
   "source": [
    "from sklearn.ensemble import RandomForestClassifier\n",
    "RFC = RandomForestClassifier(n_estimators=97,max_depth=12)\n",
    "RFC.fit(X_training,Y_training)\n",
    "RFC.score(X_training,Y_training)"
   ]
  },
  {
   "cell_type": "code",
   "execution_count": 94,
   "metadata": {},
   "outputs": [
    {
     "name": "stderr",
     "output_type": "stream",
     "text": [
      "/Users/liuyunshan/anaconda3/lib/python3.7/site-packages/IPython/core/interactiveshell.py:3020: DtypeWarning: Columns (0,4,9,10,11,12,13,14,15) have mixed types. Specify dtype option on import or set low_memory=False.\n",
      "  interactivity=interactivity, compiler=compiler, result=result)\n"
     ]
    }
   ],
   "source": [
    "data_test = pd.read_csv('test.csv', header=None)  # read test dataset\n",
    "data_test.columns = ['ID','Plate','State','License Type','Summons Number','Issue Date','Violation Time','Violation','Judgment Entry Date','Fine Amount','Penalty Amount','Interest Amount','Reduction Amount','Payment Amount','Amount Due','Precinct','County','Issuing Agency']"
   ]
  },
  {
   "cell_type": "code",
   "execution_count": 95,
   "metadata": {},
   "outputs": [
    {
     "name": "stdout",
     "output_type": "stream",
     "text": [
      "(200001, 18)\n"
     ]
    }
   ],
   "source": [
    "data_test.loc[data_test['Issue Date']=='02/30/2016','Issue Date'] = '03/30/2016'\n",
    "data_test.loc[data_test['Issue Date']=='04/31/2018','Issue Date'] = '04/30/2018'\n",
    "data_test.loc[(pd.isna(data_test['Violation Time']) == True),'Violation Time'] = '09:00A'\n",
    "\n",
    "data_test['Violation Time'] = data_test['Violation Time'].astype('str')\n",
    "data_test.loc[(data_test['Violation Time'] == '10:2.P'),'Violation Time'] = '10:20P'\n",
    "data_test.loc[(data_test['Violation Time'] == '64:56P'),'Violation Time'] = '02:56P'\n",
    "data_test.loc[(data_test['Violation Time'] == '09:3+A'),'Violation Time'] = '09:30A'\n",
    "data_test.loc[(data_test['Violation Time'] == '79:03P'),'Violation Time'] = '07:03P'\n",
    "data_test.loc[data_test['Violation Time'] == '14:35P','Violation Time'] = '02:35P'\n",
    "data_test.loc[data_test['Violation Time'] == '22:22P','Violation Time'] = '10:22P'\n",
    "\n",
    "data_test['Violation Time'].loc[1:] = data_test['Violation Time'].loc[1:].apply(lambda x : x+\"P\" if len(x)<6 else x)\n",
    "print(data_test.shape)\n",
    "# data_test.loc[data_test['Violation Time'] == '05:22','Violation Time'] = '05:22P'\n",
    "# data_test.loc[data_test['Violation Time'] == '04:35','Violation Time'] = '04:35P'\n",
    "# data_test = data_test.loc[(data_test['Violation Time'].str.len()==6)]\n",
    "\n",
    "\n"
   ]
  },
  {
   "cell_type": "code",
   "execution_count": 96,
   "metadata": {},
   "outputs": [
    {
     "name": "stdout",
     "output_type": "stream",
     "text": [
      "Completed predicting the test data.\n"
     ]
    }
   ],
   "source": [
    "X_tst = data_process(data_test)\n",
    "predict_labels = RFC.predict(X_tst)\n",
    "def myfunc(a):\n",
    "    return map[a]\n",
    "vfunc = np.vectorize(myfunc)\n",
    "predict_labels = vfunc(predict_labels)\n",
    "print(\"Completed predicting the test data.\")"
   ]
  },
  {
   "cell_type": "code",
   "execution_count": 97,
   "metadata": {},
   "outputs": [
    {
     "name": "stdout",
     "output_type": "stream",
     "text": [
      "Done.\n"
     ]
    }
   ],
   "source": [
    "Output = open(\"sub.csv\", \"w\")\n",
    "Output.write(\"ID,Prediction\\n\")\n",
    "for i in range(len(predict_labels)):\n",
    "    Output.write(str(i+1) + \",\" + predict_labels[i] + \"\\n\")\n",
    "#     print(predict_labels[i])\n",
    "Output.close()\n",
    "print(\"Done.\")"
   ]
  },
  {
   "cell_type": "code",
   "execution_count": 45,
   "metadata": {},
   "outputs": [],
   "source": [
    "from sklearn.neighbors import KNeighborsClassifier\n",
    "from sklearn.model_selection import GridSearchCV, StratifiedKFold\n",
    "# RFC Parameters tunning \n",
    "\n",
    "# kfold = StratifiedKFold(n_splits=10)\n",
    "\n",
    "# ## Search grid for optimal parameters\n",
    "# rf_param_grid = {\"max_depth\": [None],\n",
    "#               \"max_features\": [1, 3, 10],\n",
    "#               \"min_samples_split\": [2, 3, 10],\n",
    "#               \"min_samples_leaf\": [1, 3, 10],\n",
    "#               \"bootstrap\": [False],\n",
    "#               \"n_estimators\" :[100,300],\n",
    "#               \"criterion\": [\"gini\"]}\n",
    "\n",
    "\n",
    "# gsRFC = GridSearchCV(RFC,param_grid = rf_param_grid, cv=kfold, scoring=\"accuracy\", n_jobs= 4, verbose = 1)\n",
    "\n",
    "# gsRFC.fit(X_training,Y_training)\n",
    "\n",
    "# RFC_best = gsRFC.best_estimator_\n",
    "\n",
    "# # Best score\n",
    "# gsRFC.best_score_"
   ]
  },
  {
   "cell_type": "code",
   "execution_count": null,
   "metadata": {},
   "outputs": [],
   "source": []
  }
 ],
 "metadata": {
  "kernelspec": {
   "display_name": "Python 3",
   "language": "python",
   "name": "python3"
  },
  "language_info": {
   "codemirror_mode": {
    "name": "ipython",
    "version": 3
   },
   "file_extension": ".py",
   "mimetype": "text/x-python",
   "name": "python",
   "nbconvert_exporter": "python",
   "pygments_lexer": "ipython3",
   "version": "3.7.1"
  }
 },
 "nbformat": 4,
 "nbformat_minor": 2
}
