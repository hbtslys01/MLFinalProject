{
 "cells": [
  {
   "cell_type": "code",
   "execution_count": 2,
   "metadata": {},
   "outputs": [
    {
     "name": "stderr",
     "output_type": "stream",
     "text": [
      "/Users/liuyunshan/anaconda3/lib/python3.7/site-packages/IPython/core/interactiveshell.py:3020: DtypeWarning: Columns (0,4,9,10,11,12,13,14,15) have mixed types. Specify dtype option on import or set low_memory=False.\n",
      "  interactivity=interactivity, compiler=compiler, result=result)\n"
     ]
    },
    {
     "name": "stdout",
     "output_type": "stream",
     "text": [
      "(79982, 1)\n",
      "(79982, 1)\n",
      "(79982, 1)\n",
      "<class 'numpy.int64'>\n"
     ]
    }
   ],
   "source": [
    "from sklearn.utils import shuffle\n",
    "import matplotlib.pyplot as plt\n",
    "from sklearn.svm import SVC\n",
    "import pandas as pd\n",
    "import numpy as np\n",
    "from sklearn.preprocessing import OrdinalEncoder, MinMaxScaler\n",
    "from datetime import datetime as dt\n",
    "import seaborn as sns\n",
    "\n",
    "def get_time(t):\n",
    "    dt.strptime(t, \"%m/%d/%Y\")\n",
    "def helper(t):\n",
    "    1\n",
    "\n",
    "# a = get_time(\"06/20/2015\")\n",
    "# b = get_time(\"06/08/2020\")\n",
    "# c = get_time(\"06/30/2010\")\n",
    "\n",
    "\n",
    "def process_data(data):\n",
    "    a = get_time(\"06/20/2015\")\n",
    "    b = get_time(\"06/08/2020\")\n",
    "    c = get_time(\"06/30/2010\")\n",
    "    temp = data[['State', 'License Type', 'Violation','County', 'Issuing Agency', 'Violation Status']]\n",
    "    temp = temp.dropna()\n",
    "    enc = OrdinalEncoder()\n",
    "    after_proce = enc.fit_transform(temp)\n",
    "    print(after_proce[0:10])\n",
    "    min_max_scaler = MinMaxScaler()\n",
    "    t = pd.to_numeric(data['Summons Number'].loc[1:]).values.reshape(-1,1)\n",
    "    print(t.shape)\n",
    "    X_train_minmax = min_max_scaler.fit_transform(t)\n",
    "#     issue_date = data['Issue Date']\n",
    "# #     issue_date = issue_date.dropna()\n",
    "# #     issue_date = pd.concat([pd.Series(['Issue Date']),issue_date.loc[1:].apply(get_time)])\n",
    "#     issue_date = issue_date.loc[1:].apply(lambda x : dt.strptime(x, \"%m/%d/%Y\"))\n",
    "#     print(issue_date.loc[0:7])\n",
    "#     issue_date.loc[(issue_date >= a) & (issue_date <= b)] = 2\n",
    "#     issue_date.loc[(issue_date >= c) & (issue_date < a)] = 1\n",
    "#     issue_date.loc[(issue_date < c) | (issue_date > b)] = 0\n",
    "#     print(issue_date.head(20))\n",
    "\n",
    "def filter_violation_time(data):\n",
    "    data['Violation Time']\n",
    "#import matplotlib.pyplot as plt\n",
    "data_train = pd.read_csv('train.csv', header=None)  # read dataset\n",
    "data_train.columns = ['ID','Plate','State','License Type','Summons Number','Issue Date','Violation Time','Violation','Judgment Entry Date','Fine Amount','Penalty Amount','Interest Amount','Reduction Amount','Payment Amount','Amount Due','Precinct','County','Issuing Agency','Violation Status']\n",
    "#clean data\n",
    "data_train = data_train[data_train['Issue Date']!='02/29/2017']\n",
    "data_train = data_train[(pd.isna(data_train['Violation Time']) == False)]\n",
    "\n",
    "data_train['Violation Time'] = data_train['Violation Time'].astype('str')\n",
    "data_train = data_train[(data_train['Violation Time'] != '22:22P')]#(data_train['Violation Time'] != '09:36') & (data_train['Violation Time'] != '09:45')\n",
    "\n",
    "data_train = data_train.loc[(data_train['Violation Time'].str.len()>5)]\n",
    "# data_train = data_train[(data_train['Violation Time'])!='10:48A']\n",
    "data_train_y = data_train.iloc[:, -1]\n",
    "data_train_x = data_train.iloc[:, 0:-1]\n",
    "# data_test = pd.read_csv('test.csv', header=None)  # read dataset\n",
    "# data_test_y = data_test.iloc[:, -1]\n",
    "# data_test_x = data_test.iloc[:, 0:-1]\n",
    "# process_data(data_train)\n",
    "\n",
    "\n",
    "# print(data_train_y.describe())\n",
    "\n",
    "\n",
    "Y_train = data_train_y.loc[1:].astype('category')\n",
    "Y_train = Y_train.cat.codes.values.reshape(-1,1)\n",
    "# print(dict(zip(y.cat.codes, y)))\n",
    "# y = pd.concat([pd.Series(['Violation Status']), y],axis=0).values.reshape(-1)[1:]\n",
    "\n",
    "# sn = pd.Series(pd.to_numeric(data_train['Summons Number'].loc[1:]))\n",
    "# sn = pd.concat([pd.Series(['Summons Number']), sn],axis=0).values.reshape(-1)[1:]\n",
    "\n",
    "# plt.scatter(sn,y)\n",
    "# plt.title('Violation Status vs. Summons Number')\n",
    "# plt.xlabel('Summons Number')\n",
    "# plt.ylabel('Violation Status')\n",
    "# plt.show()\n",
    "\n",
    "\n",
    "State = data_train['State'].loc[1:].astype('category') \n",
    "State = State.cat.codes.values.reshape(-1,1)\n",
    "# print(dict(zip(state.cat.codes, state)))\n",
    "# state = pd.concat([pd.Series(['State']), state],axis=0).values.reshape(-1)\n",
    "print(State.shape)\n",
    "\n",
    "License_type = data_train['License Type'].loc[1:].astype('category')\n",
    "License_type = License_type.cat.codes.values.reshape(-1,1)\n",
    "# License_type = pd.concat([pd.Series(['License Type']), License_type],axis=0).values.reshape(-1)\n",
    "print(License_type.shape)\n",
    "\n",
    "#convert date string to datetime. Can only process valid date.\n",
    "Issue_date = data_train['Issue Date'].loc[1:].apply(lambda x : dt.strptime(x, \"%m/%d/%Y\"))\n",
    "Issue_date = pd.concat([pd.Series(['Issue Date']), Issue_date],axis=0)#.values.reshape(-1)\n",
    "Issue_date_year = pd.to_numeric(Issue_date.loc[1:].apply(lambda x : dt.strftime(x, \"%Y\"))).values.reshape(-1,1)\n",
    "Issue_date_mon = pd.to_numeric(Issue_date.loc[1:].apply(lambda x : dt.strftime(x, \"%m\"))).values.reshape(-1,1)\n",
    "Issue_date_day = pd.to_numeric(Issue_date.loc[1:].apply(lambda x : dt.strftime(x, \"%d\"))).values.reshape(-1,1)\n",
    "\n",
    "print(Issue_date_year.shape)\n",
    "print(type(Issue_date_year[1][0]))\n"
   ]
  },
  {
   "cell_type": "code",
   "execution_count": null,
   "metadata": {},
   "outputs": [],
   "source": [
    "# def pro_vt(x):\n",
    "#     x = str(x) + \"M\"\n",
    "#     if x[0:2]==\"00\" and x[-2:]==\"AM\":\n",
    "#         x = \"12\"+x[2:]\n",
    "#     dt.strptime(x, \"%I:%M%p\")\n",
    "\n",
    "Violation_time = (data_train['Violation Time'].loc[1:]).apply(lambda x : x+\"M\")\n",
    "Violation_time = (Violation_time.loc[1:]).apply(lambda x : \"12\"+x[2:] if (x[0:2]==\"00\" and x[-2:]==\"AM\") else x)\n",
    "Violation_time = (Violation_time.loc[1:]).apply(lambda x : dt.strptime(x, \"%I:%M%p\"))\n",
    "Violation_time = pd.concat([pd.Series(['Violation Time']),Violation_time], axis=1)\n",
    "temp = Violation_time.copy()\n",
    "# Violation_time['Temp'] = Violation_time['Violation Time']\n",
    "print(type(Violation_time))\n",
    "Violation_time = pd.concat([temp, Violation_time], axis=1).iloc[1:,[1,3]]\n",
    "# print(Violation_time)\n",
    "Violation_time.columns=['Temp','Violation_time']\n",
    "\n",
    "vt_1 = pd.Timestamp(dt.strptime(\"12:00AM\", \"%I:%M%p\"))\n",
    "vt_2 = pd.Timestamp(dt.strptime(\"03:00AM\", \"%I:%M%p\"))\n",
    "vt_3 = pd.Timestamp(dt.strptime(\"06:00AM\", \"%I:%M%p\"))\n",
    "vt_4 = pd.Timestamp(dt.strptime(\"09:00AM\", \"%I:%M%p\"))\n",
    "vt_5 = pd.Timestamp(dt.strptime(\"12:00PM\", \"%I:%M%p\"))\n",
    "vt_6 = pd.Timestamp(dt.strptime(\"03:00PM\", \"%I:%M%p\"))\n",
    "vt_7 = pd.Timestamp(dt.strptime(\"06:00PM\", \"%I:%M%p\"))\n",
    "vt_8 = pd.Timestamp(dt.strptime(\"09:00PM\", \"%I:%M%p\"))\n",
    "vt_9 = pd.Timestamp(dt.strptime(\"11:59PM\", \"%I:%M%p\"))\n",
    "# print(Violation_time.loc[1]>vt_1)\n",
    "# print(type(vt_1))\n",
    "# print(type(Violation_time.loc[1].hour))\n",
    "\n",
    "Violation_time.loc[(Violation_time['Temp']>= vt_1)& (Violation_time['Temp'] < vt_2),'Violation_time'] = 1\n",
    "Violation_time.loc[(Violation_time['Temp']>= vt_2)& (Violation_time['Temp'] < vt_3),'Violation_time'] = 2\n",
    "Violation_time.loc[(Violation_time['Temp']>= vt_3)& (Violation_time['Temp'] < vt_4),'Violation_time'] = 3\n",
    "Violation_time.loc[(Violation_time['Temp']>= vt_4)& (Violation_time['Temp'] < vt_5),'Violation_time'] = 4\n",
    "Violation_time.loc[(Violation_time['Temp']>= vt_5)& (Violation_time['Temp'] < vt_6),'Violation_time'] = 5\n",
    "Violation_time.loc[(Violation_time['Temp']>= vt_6)& (Violation_time['Temp'] < vt_7),'Violation_time'] = 6\n",
    "Violation_time.loc[(Violation_time['Temp']>= vt_7)& (Violation_time['Temp'] < vt_8),'Violation_time'] = 7\n",
    "Violation_time.loc[(Violation_time['Temp']>= vt_8)& (Violation_time['Temp'] < vt_9),'Violation_time'] = 8\n",
    "\n",
    "Violation_time = np.int64(Violation_time.iloc[:,1].values.reshape(-1,1))\n",
    "# Violation_time = pd.concat([pd.Series(['Violation Time']), Violation_time],axis=0)\n",
    "print(Violation_time.shape)\n",
    "print(type(Violation_time[1][0]))"
   ]
  },
  {
   "cell_type": "code",
   "execution_count": 4,
   "metadata": {},
   "outputs": [
    {
     "name": "stdout",
     "output_type": "stream",
     "text": [
      "(79982, 1)\n",
      "<class 'numpy.int8'>\n"
     ]
    }
   ],
   "source": [
    "Violation = data_train['Violation'].loc[1:].astype('category')\n",
    "Violation = Violation.cat.codes.values.reshape(-1,1)\n",
    "# print(dict(zip(Violation.cat.codes, Violation)))\n",
    "# print(Violation)\n",
    "# Violation = pd.concat([pd.Series(['Violation']), Violation],axis=0).values.reshape(-1)\n",
    "print(Violation.shape)\n",
    "print(type(Violation[1][0]))"
   ]
  },
  {
   "cell_type": "code",
   "execution_count": 5,
   "metadata": {},
   "outputs": [
    {
     "name": "stdout",
     "output_type": "stream",
     "text": [
      "(79982, 1)\n"
     ]
    }
   ],
   "source": [
    "Fine_amount = pd.to_numeric(data_train['Fine Amount'].loc[1:])\n",
    "# interval = pd.IntervalIndex(np.array([pd.interval_range(start=0, periods=5, freq=25.75,closed='left'),pd.Interval(left=128.75,right=515,closed='left')]))\n",
    "interval = [-0.001, 25.75,51.5,77.25,103,128.75,515]\n",
    "Fine_amount = pd.cut(Fine_amount,interval,labels=np.array([1,3,4,2,5,0])).cat.codes.values.reshape(-1,1)\n",
    "# Fine_amount = pd.concat([pd.Series(['Fine Amount']), Fine_amount],axis=0)\n",
    "print(Fine_amount.shape)"
   ]
  },
  {
   "cell_type": "code",
   "execution_count": 6,
   "metadata": {},
   "outputs": [
    {
     "name": "stdout",
     "output_type": "stream",
     "text": [
      "(79982, 1)\n"
     ]
    }
   ],
   "source": [
    "Penalty_amount = pd.to_numeric(data_train['Penalty Amount'].loc[1:])\n",
    "# interval = pd.IntervalIndex(np.array([pd.interval_range(start=0, periods=5, freq=25.75,closed='left'),pd.Interval(left=128.75,right=515,closed='left')]))\n",
    "interval = [-0.001,3,12,27,33,60]\n",
    "Penalty_amount = pd.cut(Penalty_amount,interval,labels=np.array([4,3,0,1,2])).cat.codes.values.reshape(-1,1)\n",
    "# Penalty_amount = pd.concat([pd.Series(['Penalty Amount']), Penalty_amount],axis=0)\n",
    "print(Penalty_amount.shape)"
   ]
  },
  {
   "cell_type": "code",
   "execution_count": 7,
   "metadata": {},
   "outputs": [
    {
     "name": "stdout",
     "output_type": "stream",
     "text": [
      "(79982, 1)\n"
     ]
    }
   ],
   "source": [
    "Interest_amount = pd.to_numeric(data_train['Interest Amount'].loc[1:])\n",
    "interval = [-0.001,13.75,275]\n",
    "Interest_amount = pd.cut(Interest_amount,interval,labels=np.array([1,0])).cat.codes.values.reshape(-1,1)\n",
    "# Interest_amount = pd.concat([pd.Series(['Interest Amount']), Interest_amount],axis=0)\n",
    "print(Interest_amount.shape)"
   ]
  },
  {
   "cell_type": "code",
   "execution_count": 8,
   "metadata": {},
   "outputs": [
    {
     "name": "stdout",
     "output_type": "stream",
     "text": [
      "(79982, 1)\n"
     ]
    }
   ],
   "source": [
    "Reduction_amount = pd.to_numeric(data_train['Reduction Amount'].loc[1:])\n",
    "# interval = pd.IntervalIndex(np.array([pd.interval_range(start=0, periods=5, freq=25.75,closed='left'),pd.Interval(left=128.75,right=515,closed='left')]))\n",
    "interval = [-0.001, 27.25,54.5,81.75,109,136.25,545]\n",
    "Reduction_amount = pd.cut(Reduction_amount,interval,labels=np.array([5,4,3,1,2,0])).cat.codes.values.reshape(-1,1)\n",
    "# Reduction_amount = pd.concat([pd.Series(['Reduction Amount']), Reduction_amount],axis=0)\n",
    "print(Reduction_amount.shape)"
   ]
  },
  {
   "cell_type": "code",
   "execution_count": 9,
   "metadata": {},
   "outputs": [
    {
     "name": "stdout",
     "output_type": "stream",
     "text": [
      "(79982, 1)\n"
     ]
    }
   ],
   "source": [
    "Payment_amount = pd.to_numeric(data_train['Payment Amount'].loc[1:])\n",
    "# interval = pd.IntervalIndex(np.array([pd.interval_range(start=0, periods=5, freq=25.75,closed='left'),pd.Interval(left=128.75,right=515,closed='left')]))\n",
    "interval = [-0.001, 34.45,68.91,103.36,137.81,172.26,206.72,689]\n",
    "Payment_amount = pd.cut(Payment_amount,interval,labels=np.array([6,4,3,5,1,2,0])).cat.codes.values.reshape(-1,1)\n",
    "# Payment_amount = pd.concat([pd.Series(['Payment Amount']), Payment_amount],axis=0)\n",
    "print(Payment_amount.shape)"
   ]
  },
  {
   "cell_type": "code",
   "execution_count": 10,
   "metadata": {},
   "outputs": [
    {
     "name": "stdout",
     "output_type": "stream",
     "text": [
      "(79982, 1)\n"
     ]
    }
   ],
   "source": [
    "Amount_due = pd.to_numeric(data_train['Amount Due'].loc[1:])\n",
    "# interval = pd.IntervalIndex(np.array([pd.interval_range(start=0, periods=5, freq=25.75,closed='left'),pd.Interval(left=128.75,right=515,closed='left')]))\n",
    "interval = [-0.001, 38.5,76.99,115.49,153.98,770]\n",
    "Amount_due = pd.cut(Amount_due,interval,labels=np.array([4,2,3,1,0])).cat.codes.values.reshape(-1,1)\n",
    "# Amount_due = pd.concat([pd.Series(['Amount Due']), Amount_due],axis=0)\n",
    "print(Amount_due.shape)"
   ]
  },
  {
   "cell_type": "code",
   "execution_count": 11,
   "metadata": {},
   "outputs": [
    {
     "name": "stdout",
     "output_type": "stream",
     "text": [
      "(79982, 1)\n"
     ]
    }
   ],
   "source": [
    "Precinct = pd.to_numeric(data_train['Precinct'].loc[1:])\n",
    "# interval = pd.IntervalIndex(np.array([pd.interval_range(start=0, periods=5, freq=25.75,closed='left'),pd.Interval(left=128.75,right=515,closed='left')]))\n",
    "interval = [-0.001, 23.6,47.2,70.8,94.4,118,141.6,472]\n",
    "Precinct = pd.cut(Precinct,interval,labels=np.array([6,3,4,2,5,1,0])).cat.codes.values.reshape(-1,1)\n",
    "# Precinct = pd.concat([pd.Series(['Precinct']), Precinct],axis=0)\n",
    "print(Precinct.shape)"
   ]
  },
  {
   "cell_type": "code",
   "execution_count": 12,
   "metadata": {},
   "outputs": [
    {
     "name": "stdout",
     "output_type": "stream",
     "text": [
      "(79982, 1)\n"
     ]
    }
   ],
   "source": [
    "County = data_train['County'].loc[1:].astype('category')\n",
    "County = County.cat.codes.values.reshape(-1,1)\n",
    "# print(dict(zip(Violation.cat.codes, Violation)))\n",
    "# print(County)\n",
    "# County = pd.concat([pd.Series(['County']),County],axis=0).values.reshape(-1)\n",
    "print(County.shape)"
   ]
  },
  {
   "cell_type": "code",
   "execution_count": 13,
   "metadata": {},
   "outputs": [
    {
     "name": "stdout",
     "output_type": "stream",
     "text": [
      "(79982, 1)\n"
     ]
    }
   ],
   "source": [
    "Issuing_agency = data_train['Issuing Agency'].loc[1:].astype('category')\n",
    "Issuing_agency = Issuing_agency.cat.codes.values.reshape(-1,1)\n",
    "# print(dict(zip(Violation.cat.codes, Violation)))\n",
    "# print(County)\n",
    "# County = pd.concat([pd.Series(['Issuing Agency']),County],axis=0).values.reshape(-1)\n",
    "print(County.shape)"
   ]
  },
  {
   "cell_type": "code",
   "execution_count": null,
   "metadata": {},
   "outputs": [
    {
     "name": "stdout",
     "output_type": "stream",
     "text": [
      "[[38]\n",
      " [38]\n",
      " [38]\n",
      " ...\n",
      " [38]\n",
      " [38]\n",
      " [38]]\n",
      "[[30]\n",
      " [10]\n",
      " [30]\n",
      " ...\n",
      " [10]\n",
      " [30]\n",
      " [30]]\n",
      "<class 'numpy.int64'>\n",
      "<class 'numpy.int64'>\n",
      "<class 'numpy.int64'>\n",
      "<class 'numpy.int64'>\n",
      "<class 'numpy.int64'>\n",
      "<class 'numpy.int64'>\n",
      "<class 'numpy.int64'>\n",
      "<class 'numpy.int64'>\n",
      "<class 'numpy.int64'>\n",
      "<class 'numpy.int64'>\n",
      "<class 'numpy.int64'>\n",
      "<class 'numpy.int64'>\n",
      "<class 'numpy.int64'>\n",
      "<class 'numpy.int64'>\n",
      "<class 'numpy.int64'>\n"
     ]
    },
    {
     "name": "stderr",
     "output_type": "stream",
     "text": [
      "/Users/liuyunshan/anaconda3/lib/python3.7/site-packages/sklearn/utils/validation.py:761: DataConversionWarning: A column-vector y was passed when a 1d array was expected. Please change the shape of y to (n_samples, ), for example using ravel().\n",
      "  y = column_or_1d(y, warn=True)\n"
     ]
    }
   ],
   "source": [
    "from sklearn.svm import SVC\n",
    "print(State)\n",
    "print(License_type)\n",
    "X_trn = np.concatenate([State,License_type,Issue_date_year,Issue_date_mon,Issue_date_day,Violation_time,Violation,\n",
    "Fine_amount,Penalty_amount,Interest_amount,Reduction_amount,Payment_amount,Amount_due,Precinct,County,Issuing_agency],axis=1)\n",
    "for i in range(X_trn.shape[1]):\n",
    "    print(type(X_trn[0][i]))\n",
    "clf =  SVC(C=100.0, kernel = 'linear', random_state=0)\n",
    "clf.fit(X_trn, Y_train)"
   ]
  },
  {
   "cell_type": "code",
   "execution_count": null,
   "metadata": {},
   "outputs": [],
   "source": []
  },
  {
   "cell_type": "code",
   "execution_count": null,
   "metadata": {},
   "outputs": [],
   "source": []
  },
  {
   "cell_type": "code",
   "execution_count": null,
   "metadata": {},
   "outputs": [],
   "source": []
  }
 ],
 "metadata": {
  "kernelspec": {
   "display_name": "Python 3",
   "language": "python",
   "name": "python3"
  },
  "language_info": {
   "codemirror_mode": {
    "name": "ipython",
    "version": 3
   },
   "file_extension": ".py",
   "mimetype": "text/x-python",
   "name": "python",
   "nbconvert_exporter": "python",
   "pygments_lexer": "ipython3",
   "version": "3.7.1"
  }
 },
 "nbformat": 4,
 "nbformat_minor": 2
}
