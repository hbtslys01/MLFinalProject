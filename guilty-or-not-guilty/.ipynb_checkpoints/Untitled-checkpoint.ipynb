{
 "cells": [
  {
   "cell_type": "code",
   "execution_count": 49,
   "metadata": {},
   "outputs": [],
   "source": [
    "from sklearn.utils import shuffle\n",
    "import matplotlib.pyplot as plt\n",
    "from sklearn.svm import SVC\n",
    "import pandas as pd\n",
    "import numpy as np\n",
    "from datetime import datetime as dt\n",
    "import seaborn as sns\n",
    "\n",
    "\n",
    "\n",
    "#import matplotlib.pyplot as plt\n",
    "data_train = pd.read_csv('train.csv', header=None)  # read dataset\n",
    "data_train.columns = ['ID','Plate','State','License Type','Summons Number','Issue Date','Violation Time','Violation','Judgment Entry Date','Fine Amount','Penalty Amount','Interest Amount','Reduction Amount','Payment Amount','Amount Due','Precinct','County','Issuing Agency','Violation Status']\n",
    "#clean data\n",
    "data_train = data_train[data_train['Issue Date']!='02/29/2017']\n",
    "data_train = data_train[(pd.isna(data_train['Violation Time']) == False)]\n",
    "\n",
    "data_train['Violation Time'] = data_train['Violation Time'].astype('str')\n",
    "data_train = data_train[(data_train['Violation Time'] != '22:22P')]#(data_train['Violation Time'] != '09:36') & (data_train['Violation Time'] != '09:45')\n",
    "\n",
    "data_train = data_train.loc[(data_train['Violation Time'].str.len()>5)]\n",
    "# data_train = data_train[(data_train['Violation Time'])!='10:48A']\n",
    "# data_train_y = data_train.iloc[:, -1]\n",
    "# data_train_x = data_train.iloc[:, 0:-1]\n",
    "# data_test = pd.read_csv('test.csv', header=None)  # read dataset\n",
    "# data_test_y = data_test.iloc[:, -1]\n",
    "# data_test_x = data_test.iloc[:, 0:-1]\n",
    "# process_data(data_train)\n",
    "\n",
    "\n",
    "# print(data_train_y.describe())\n",
    "\n",
    "\n",
    "\n",
    "# print(dict(zip(Y_train.cat.codes, Y_train)))\n",
    "# y = pd.concat([pd.Series(['Violation Status']), y],axis=0).values.reshape(-1)[1:]\n",
    "\n",
    "# sn = pd.Series(pd.to_numeric(data_train['Summons Number'].loc[1:]))\n",
    "# sn = pd.concat([pd.Series(['Summons Number']), sn],axis=0).values.reshape(-1)[1:]\n",
    "\n",
    "# plt.scatter(sn,y)\n",
    "# plt.title('Violation Status vs. Summons Number')\n",
    "# plt.xlabel('Summons Number')\n",
    "# plt.ylabel('Violation Status')\n",
    "# plt.show()\n",
    "\n",
    "\n",
    "\n",
    "\n"
   ]
  },
  {
   "cell_type": "code",
   "execution_count": null,
   "metadata": {},
   "outputs": [],
   "source": [
    "def data_process(data):\n",
    "    Y = data.iloc[:, -1]\n",
    "    Y = data.loc[1:].astype('category')\n",
    "    Y = Y.cat.codes.values\n",
    "    \n",
    "    State = data['State'].loc[1:].astype('category')\n",
    "    State = State.apply(lambda x : 5 if x == 'NY' else 4 if x == 'NJ' else 3 if x == 'IN' else 2 if x == 'PA' else 1 if x == 'CT' else 0)\n",
    "    State = State.values.reshape(-1,1)\n",
    "\n",
    "    License_type = data['License Type'].loc[1:].astype('category')\n",
    "    License_type = License_type.apply(lambda x : 5 if x == 'PAS' else 4 if x == 'COM' else 3 if x == 'OMT' else 2 if x == 'IRP' else 1 if x == 'APP' else 0)\n",
    "    License_type = License_type.values.reshape(-1,1)\n",
    "\n",
    "    #convert date string to datetime. Can only process valid date.\n",
    "    Issue_date = data['Issue Date'].loc[1:].apply(lambda x : dt.strptime(x, \"%m/%d/%Y\"))\n",
    "    Issue_date = pd.concat([pd.Series(['Issue Date']), Issue_date],axis=0)#.values.reshape(-1)\n",
    "    Issue_date_year = pd.to_numeric(Issue_date.loc[1:].apply(lambda x : dt.strftime(x, \"%Y\"))).values.reshape(-1,1)\n",
    "    Issue_date_mon = pd.to_numeric(Issue_date.loc[1:].apply(lambda x : dt.strftime(x, \"%m\"))).values.reshape(-1,1)\n",
    "    Issue_date_day = pd.to_numeric(Issue_date.loc[1:].apply(lambda x : dt.strftime(x, \"%d\"))).values.reshape(-1,1)\n",
    "    \n",
    "    Violation_time = (data['Violation Time'].loc[1:]).apply(lambda x : x+\"M\")\n",
    "    Violation_time = (Violation_time.loc[1:]).apply(lambda x : \"12\"+x[2:] if (x[0:2]==\"00\" and x[-2:]==\"AM\") else x)\n",
    "    Violation_time = (Violation_time.loc[1:]).apply(lambda x : dt.strptime(x, \"%I:%M%p\"))\n",
    "    t=pd.Series(np.zeros(Violation_time.shape[0]),index=Violation_time.index)\n",
    "    Violation_time = pd.concat([Violation_time,t], axis=1)\n",
    "    Violation_time.columns=['Temp','Violation_time']\n",
    "    vt_1 = pd.Timestamp(dt.strptime(\"12:00AM\", \"%I:%M%p\"))\n",
    "    vt_2 = pd.Timestamp(dt.strptime(\"03:00AM\", \"%I:%M%p\"))\n",
    "    vt_3 = pd.Timestamp(dt.strptime(\"06:00AM\", \"%I:%M%p\"))\n",
    "    vt_4 = pd.Timestamp(dt.strptime(\"09:00AM\", \"%I:%M%p\"))\n",
    "    vt_5 = pd.Timestamp(dt.strptime(\"12:00PM\", \"%I:%M%p\"))\n",
    "    vt_6 = pd.Timestamp(dt.strptime(\"03:00PM\", \"%I:%M%p\"))\n",
    "    vt_7 = pd.Timestamp(dt.strptime(\"06:00PM\", \"%I:%M%p\"))\n",
    "    vt_8 = pd.Timestamp(dt.strptime(\"09:00PM\", \"%I:%M%p\"))\n",
    "    vt_9 = pd.Timestamp(dt.strptime(\"11:59PM\", \"%I:%M%p\"))\n",
    "    Violation_time.loc[(Violation_time['Temp']>= vt_1)& (Violation_time['Temp'] < vt_2),'Violation_time'] = 1\n",
    "    Violation_time.loc[(Violation_time['Temp']>= vt_2)& (Violation_time['Temp'] < vt_3),'Violation_time'] = 2\n",
    "    Violation_time.loc[(Violation_time['Temp']>= vt_3)& (Violation_time['Temp'] < vt_4),'Violation_time'] = 3\n",
    "    Violation_time.loc[(Violation_time['Temp']>= vt_4)& (Violation_time['Temp'] < vt_5),'Violation_time'] = 4\n",
    "    Violation_time.loc[(Violation_time['Temp']>= vt_5)& (Violation_time['Temp'] < vt_6),'Violation_time'] = 5\n",
    "    Violation_time.loc[(Violation_time['Temp']>= vt_6)& (Violation_time['Temp'] < vt_7),'Violation_time'] = 6\n",
    "    Violation_time.loc[(Violation_time['Temp']>= vt_7)& (Violation_time['Temp'] < vt_8),'Violation_time'] = 7\n",
    "    Violation_time.loc[(Violation_time['Temp']>= vt_8)& (Violation_time['Temp'] < vt_9),'Violation_time'] = 8\n",
    "    Violation_time = Violation_time.iloc[:,1].values.reshape(-1,1)\n",
    "    Violation_time=np.int64(Violation_time)\n",
    "    \n",
    "    Violation = data['Violation'].loc[1:].astype('category')\n",
    "    Violation = Violation.cat.codes.values.reshape(-1,1)\n",
    "    \n",
    "    Fine_amount = pd.to_numeric(data['Fine Amount'].loc[1:])\n",
    "    interval = [-0.001, 25.75,51.5,77.25,103,128.75,515]\n",
    "    Fine_amount = pd.cut(Fine_amount,interval,labels=np.array([1,3,4,2,5,0])).cat.codes.values.reshape(-1,1)\n",
    "    \n",
    "    Penalty_amount = pd.to_numeric(data['Penalty Amount'].loc[1:])\n",
    "    interval = [-0.001,3,12,27,33,60]\n",
    "    Penalty_amount = pd.cut(Penalty_amount,interval,labels=np.array([4,3,0,1,2])).cat.codes.values.reshape(-1,1)\n",
    "    \n",
    "    Interest_amount = pd.to_numeric(data['Interest Amount'].loc[1:])\n",
    "    interval = [-0.001,13.75,275]\n",
    "    Interest_amount = pd.cut(Interest_amount,interval,labels=np.array([1,0])).cat.codes.values.reshape(-1,1)\n",
    "\n",
    "    Reduction_amount = pd.to_numeric(data['Reduction Amount'].loc[1:])\n",
    "    interval = [-0.001, 27.25,54.5,81.75,109,136.25,545]\n",
    "    Reduction_amount = pd.cut(Reduction_amount,interval,labels=np.array([5,4,3,1,2,0])).cat.codes.values.reshape(-1,1)\n",
    "\n",
    "    Payment_amount = pd.to_numeric(data['Payment Amount'].loc[1:])\n",
    "    interval = [-0.001, 34.45,68.91,103.36,137.81,172.26,206.72,689]\n",
    "    Payment_amount = pd.cut(Payment_amount,interval,labels=np.array([6,4,3,5,1,2,0])).cat.codes.values.reshape(-1,1)\n",
    "\n",
    "    Amount_due = pd.to_numeric(data['Amount Due'].loc[1:])\n",
    "    interval = [-0.001, 38.5,76.99,115.49,153.98,770]\n",
    "    Amount_due = pd.cut(Amount_due,interval,labels=np.array([4,2,3,1,0])).cat.codes.values.reshape(-1,1)\n",
    "\n",
    "    Precinct = pd.to_numeric(data['Precinct'].loc[1:])\n",
    "    interval = [-0.001, 23.6,47.2,70.8,94.4,118,141.6,472]\n",
    "    Precinct = pd.cut(Precinct,interval,labels=np.array([6,3,4,2,5,1,0])).cat.codes.values.reshape(-1,1)\n",
    "\n",
    "    County = data['County'].loc[1:].astype('category')\n",
    "    County = County.cat.codes.values.reshape(-1,1)\n",
    "    \n",
    "    Issuing_agency = data['Issuing Agency'].loc[1:].astype('category')\n",
    "    Issuing_agency = Issuing_agency.cat.codes.values.reshape(-1,1)\n",
    "\n",
    "    X = np.concatenate([State,License_type,Issue_date_year,Issue_date_mon,Issue_date_day,Violation_time,Violation,\n",
    "Fine_amount,Penalty_amount,Interest_amount,Reduction_amount,Payment_amount,Amount_due,Precinct,County,Issuing_agency],axis=1)\n",
    "    \n",
    "    return X, Y"
   ]
  },
  {
   "cell_type": "code",
   "execution_count": 37,
   "metadata": {},
   "outputs": [],
   "source": [
    "from sklearn.svm import SVC\n",
    "from sklearn.model_selection import train_test_split\n",
    "X_trn, Y_trn = data_process(data_train)\n",
    "X_training, X_validation, Y_training, Y_validation = train_test_split(X_trn, Y_train, test_size = 0.25, random_state = 1000)\n",
    "#print(X_trn.shape)"
   ]
  },
  {
   "cell_type": "code",
   "execution_count": 38,
   "metadata": {},
   "outputs": [],
   "source": [
    "# clf = SVC(C=100.0, kernel = 'linear', random_state=0)\n",
    "# clf.fit(X_trn, Y_trn)\n",
    "# print(clf.score(X_trn,Y_trn))"
   ]
  },
  {
   "cell_type": "code",
   "execution_count": 39,
   "metadata": {},
   "outputs": [
    {
     "name": "stdout",
     "output_type": "stream",
     "text": [
      "(59986, 16)\n"
     ]
    }
   ],
   "source": [
    "print(X_training.shape)\n"
   ]
  },
  {
   "cell_type": "code",
   "execution_count": 40,
   "metadata": {},
   "outputs": [
    {
     "name": "stdout",
     "output_type": "stream",
     "text": [
      "(59986,)\n"
     ]
    }
   ],
   "source": [
    "print(Y_training.shape)"
   ]
  },
  {
   "cell_type": "code",
   "execution_count": 41,
   "metadata": {},
   "outputs": [],
   "source": [
    "from sklearn.linear_model import LogisticRegression"
   ]
  },
  {
   "cell_type": "code",
   "execution_count": 42,
   "metadata": {},
   "outputs": [
    {
     "name": "stderr",
     "output_type": "stream",
     "text": [
      "/Users/liuyunshan/anaconda3/lib/python3.7/site-packages/sklearn/linear_model/sag.py:334: ConvergenceWarning: The max_iter was reached which means the coef_ did not converge\n",
      "  \"the coef_ did not converge\", ConvergenceWarning)\n"
     ]
    }
   ],
   "source": [
    "clf = LogisticRegression(penalty='l2',random_state=0, solver='sag',multi_class='multinomial').fit(X_training, Y_training)"
   ]
  },
  {
   "cell_type": "code",
   "execution_count": 43,
   "metadata": {},
   "outputs": [
    {
     "data": {
      "text/plain": [
       "0.7740972893675191"
      ]
     },
     "execution_count": 43,
     "metadata": {},
     "output_type": "execute_result"
    }
   ],
   "source": [
    "\n",
    "clf.score(X_training,Y_training)"
   ]
  },
  {
   "cell_type": "code",
   "execution_count": 44,
   "metadata": {},
   "outputs": [
    {
     "data": {
      "text/plain": [
       "0.9240489447537759"
      ]
     },
     "execution_count": 44,
     "metadata": {},
     "output_type": "execute_result"
    }
   ],
   "source": [
    "from sklearn.ensemble import RandomForestClassifier\n",
    "RFC = RandomForestClassifier(n_estimators=100,max_depth=15)\n",
    "RFC.fit(X_training,Y_training)\n",
    "RFC.score(X_training,Y_training)"
   ]
  },
  {
   "cell_type": "code",
   "execution_count": 45,
   "metadata": {},
   "outputs": [],
   "source": [
    "from sklearn.neighbors import KNeighborsClassifier\n",
    "from sklearn.model_selection import GridSearchCV, StratifiedKFold\n",
    "# RFC Parameters tunning \n",
    "\n",
    "# kfold = StratifiedKFold(n_splits=10)\n",
    "\n",
    "# ## Search grid for optimal parameters\n",
    "# rf_param_grid = {\"max_depth\": [None],\n",
    "#               \"max_features\": [1, 3, 10],\n",
    "#               \"min_samples_split\": [2, 3, 10],\n",
    "#               \"min_samples_leaf\": [1, 3, 10],\n",
    "#               \"bootstrap\": [False],\n",
    "#               \"n_estimators\" :[100,300],\n",
    "#               \"criterion\": [\"gini\"]}\n",
    "\n",
    "\n",
    "# gsRFC = GridSearchCV(RFC,param_grid = rf_param_grid, cv=kfold, scoring=\"accuracy\", n_jobs= 4, verbose = 1)\n",
    "\n",
    "# gsRFC.fit(X_training,Y_training)\n",
    "\n",
    "# RFC_best = gsRFC.best_estimator_\n",
    "\n",
    "# # Best score\n",
    "# gsRFC.best_score_"
   ]
  },
  {
   "cell_type": "code",
   "execution_count": null,
   "metadata": {},
   "outputs": [],
   "source": []
  }
 ],
 "metadata": {
  "kernelspec": {
   "display_name": "Python 3",
   "language": "python",
   "name": "python3"
  },
  "language_info": {
   "codemirror_mode": {
    "name": "ipython",
    "version": 3
   },
   "file_extension": ".py",
   "mimetype": "text/x-python",
   "name": "python",
   "nbconvert_exporter": "python",
   "pygments_lexer": "ipython3",
   "version": "3.7.1"
  }
 },
 "nbformat": 4,
 "nbformat_minor": 2
}
