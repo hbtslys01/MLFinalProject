{
 "cells": [
  {
   "cell_type": "code",
   "execution_count": 241,
   "metadata": {},
   "outputs": [
    {
     "name": "stdout",
     "output_type": "stream",
     "text": [
      "(79983, 19)\n",
      "(79983,)\n",
      "<class 'numpy.ndarray'>\n"
     ]
    }
   ],
   "source": [
    "from sklearn.utils import shuffle\n",
    "import matplotlib.pyplot as plt\n",
    "from sklearn.svm import SVC\n",
    "import pandas as pd\n",
    "import numpy as np\n",
    "from sklearn.preprocessing import OrdinalEncoder, MinMaxScaler\n",
    "from datetime import datetime as dt\n",
    "import seaborn as sns\n",
    "\n",
    "def get_time(t):\n",
    "    dt.strptime(t, \"%m/%d/%Y\")\n",
    "def helper(t):\n",
    "    1\n",
    "\n",
    "# a = get_time(\"06/20/2015\")\n",
    "# b = get_time(\"06/08/2020\")\n",
    "# c = get_time(\"06/30/2010\")\n",
    "\n",
    "\n",
    "def process_data(data):\n",
    "    a = get_time(\"06/20/2015\")\n",
    "    b = get_time(\"06/08/2020\")\n",
    "    c = get_time(\"06/30/2010\")\n",
    "    temp = data[['State', 'License Type', 'Violation','County', 'Issuing Agency', 'Violation Status']]\n",
    "    temp = temp.dropna()\n",
    "    enc = OrdinalEncoder()\n",
    "    after_proce = enc.fit_transform(temp)\n",
    "    print(after_proce[0:10])\n",
    "    min_max_scaler = MinMaxScaler()\n",
    "    t = pd.to_numeric(data['Summons Number'].loc[1:]).values.reshape(-1,1)\n",
    "    print(t.shape)\n",
    "    X_train_minmax = min_max_scaler.fit_transform(t)\n",
    "#     issue_date = data['Issue Date']\n",
    "# #     issue_date = issue_date.dropna()\n",
    "# #     issue_date = pd.concat([pd.Series(['Issue Date']),issue_date.loc[1:].apply(get_time)])\n",
    "#     issue_date = issue_date.loc[1:].apply(lambda x : dt.strptime(x, \"%m/%d/%Y\"))\n",
    "#     print(issue_date.loc[0:7])\n",
    "#     issue_date.loc[(issue_date >= a) & (issue_date <= b)] = 2\n",
    "#     issue_date.loc[(issue_date >= c) & (issue_date < a)] = 1\n",
    "#     issue_date.loc[(issue_date < c) | (issue_date > b)] = 0\n",
    "#     print(issue_date.head(20))\n",
    "\n",
    "def filter_violation_time(data):\n",
    "    data['Violation Time']\n",
    "#import matplotlib.pyplot as plt\n",
    "data_train = pd.read_csv('train.csv', header=None)  # read dataset\n",
    "data_train.columns = ['ID','Plate','State','License Type','Summons Number','Issue Date','Violation Time','Violation','Judgment Entry Date','Fine Amount','Penalty Amount','Interest Amount','Reduction Amount','Payment Amount','Amount Due','Precinct','County','Issuing Agency','Violation Status']\n",
    "#clean data\n",
    "data_train = data_train[data_train['Issue Date']!='02/29/2017']\n",
    "data_train = data_train[(pd.isna(data_train['Violation Time']) == False)]\n",
    "\n",
    "data_train['Violation Time'] = data_train['Violation Time'].astype('str')\n",
    "data_train = data_train[(data_train['Violation Time'] != '22:22P')]#(data_train['Violation Time'] != '09:36') & (data_train['Violation Time'] != '09:45')\n",
    "\n",
    "data_train = data_train.loc[(data_train['Violation Time'].str.len()>5)]\n",
    "# data_train = data_train[(data_train['Violation Time'])!='10:48A']\n",
    "data_train_y = data_train.iloc[:, -1]\n",
    "data_train_x = data_train.iloc[:, 0:-1]\n",
    "# data_test = pd.read_csv('test.csv', header=None)  # read dataset\n",
    "# data_test_y = data_test.iloc[:, -1]\n",
    "# data_test_x = data_test.iloc[:, 0:-1]\n",
    "# process_data(data_train)\n",
    "\n",
    "\n",
    "# print(data_train_y.describe())\n",
    "print(data_train.shape)\n",
    "\n",
    "\n",
    "y = data_train_y.loc[1:].astype('category')\n",
    "# print(dict(zip(y.cat.codes, y)))\n",
    "# y = pd.concat([pd.Series(['Violation Status']), y],axis=0).values.reshape(-1)[1:]\n",
    "\n",
    "# sn = pd.Series(pd.to_numeric(data_train['Summons Number'].loc[1:]))\n",
    "# sn = pd.concat([pd.Series(['Summons Number']), sn],axis=0).values.reshape(-1)[1:]\n",
    "\n",
    "# plt.scatter(sn,y)\n",
    "# plt.title('Violation Status vs. Summons Number')\n",
    "# plt.xlabel('Summons Number')\n",
    "# plt.ylabel('Violation Status')\n",
    "# plt.show()\n",
    "\n",
    "\n",
    "state = data_train['State'].loc[1:].astype('category') \n",
    "state = state.cat.codes\n",
    "# print(dict(zip(state.cat.codes, state)))\n",
    "# state = pd.concat([pd.Series(['State']), state],axis=0).values.reshape(-1)\n",
    "print(state.shape)\n",
    "print(type(state))\n",
    "\n",
    "License_type = data_train['License Type'].loc[1:].astype('category')\n",
    "License_type = License_type.cat.codes\n",
    "# License_type = pd.concat([pd.Series(['License Type']), License_type],axis=0).values.reshape(-1)\n",
    "\n",
    "#convert date string to datetime. Can only process valid date.\n",
    "Issue_date = data_train['Issue Date'].loc[1:].apply(lambda x : dt.strptime(x, \"%m/%d/%Y\"))\n",
    "Issue_date = pd.concat([pd.Series(['Issue Date']), Issue_date],axis=0)#.values.reshape(-1)\n",
    "Issue_date_year = Issue_date.loc[1:].apply(lambda x : dt.strftime(x, \"%Y\"))\n",
    "Issue_date_mon = Issue_date.loc[1:].apply(lambda x : dt.strftime(x, \"%m\"))\n",
    "Issue_date_day = Issue_date.loc[1:].apply(lambda x : dt.strftime(x, \"%d\"))\n",
    "\n",
    "\n",
    "\n"
   ]
  },
  {
   "cell_type": "code",
   "execution_count": 242,
   "metadata": {},
   "outputs": [
    {
     "name": "stdout",
     "output_type": "stream",
     "text": [
      "<class 'pandas.core.frame.DataFrame'>\n",
      "(79983,)\n"
     ]
    }
   ],
   "source": [
    "# def pro_vt(x):\n",
    "#     x = str(x) + \"M\"\n",
    "#     if x[0:2]==\"00\" and x[-2:]==\"AM\":\n",
    "#         x = \"12\"+x[2:]\n",
    "#     dt.strptime(x, \"%I:%M%p\")\n",
    "\n",
    "Violation_time = (data_train['Violation Time'].loc[1:]).apply(lambda x : x+\"M\")\n",
    "Violation_time = (Violation_time.loc[1:]).apply(lambda x : \"12\"+x[2:] if (x[0:2]==\"00\" and x[-2:]==\"AM\") else x)\n",
    "Violation_time = (Violation_time.loc[1:]).apply(lambda x : dt.strptime(x, \"%I:%M%p\"))\n",
    "Violation_time = pd.concat([pd.Series(['Violation Time']),Violation_time], axis=1)\n",
    "temp = Violation_time.copy()\n",
    "# Violation_time['Temp'] = Violation_time['Violation Time']\n",
    "print(type(Violation_time))\n",
    "Violation_time = pd.concat([temp, Violation_time], axis=1).iloc[1:,[1,3]]\n",
    "# print(Violation_time)\n",
    "Violation_time.columns=['Temp','Violation_time']\n",
    "\n",
    "vt_1 = pd.Timestamp(dt.strptime(\"12:00AM\", \"%I:%M%p\"))\n",
    "vt_2 = pd.Timestamp(dt.strptime(\"03:00AM\", \"%I:%M%p\"))\n",
    "vt_3 = pd.Timestamp(dt.strptime(\"06:00AM\", \"%I:%M%p\"))\n",
    "vt_4 = pd.Timestamp(dt.strptime(\"09:00AM\", \"%I:%M%p\"))\n",
    "vt_5 = pd.Timestamp(dt.strptime(\"12:00PM\", \"%I:%M%p\"))\n",
    "vt_6 = pd.Timestamp(dt.strptime(\"03:00PM\", \"%I:%M%p\"))\n",
    "vt_7 = pd.Timestamp(dt.strptime(\"06:00PM\", \"%I:%M%p\"))\n",
    "vt_8 = pd.Timestamp(dt.strptime(\"09:00PM\", \"%I:%M%p\"))\n",
    "vt_9 = pd.Timestamp(dt.strptime(\"11:59PM\", \"%I:%M%p\"))\n",
    "# print(Violation_time.loc[1]>vt_1)\n",
    "# print(type(vt_1))\n",
    "# print(type(Violation_time.loc[1].hour))\n",
    "\n",
    "Violation_time.loc[(Violation_time['Temp']>= vt_1)& (Violation_time['Temp'] < vt_2),'Violation_time'] = 1\n",
    "Violation_time.loc[(Violation_time['Temp']>= vt_2)& (Violation_time['Temp'] < vt_3),'Violation_time'] = 2\n",
    "Violation_time.loc[(Violation_time['Temp']>= vt_3)& (Violation_time['Temp'] < vt_4),'Violation_time'] = 3\n",
    "Violation_time.loc[(Violation_time['Temp']>= vt_4)& (Violation_time['Temp'] < vt_5),'Violation_time'] = 4\n",
    "Violation_time.loc[(Violation_time['Temp']>= vt_5)& (Violation_time['Temp'] < vt_6),'Violation_time'] = 5\n",
    "Violation_time.loc[(Violation_time['Temp']>= vt_6)& (Violation_time['Temp'] < vt_7),'Violation_time'] = 6\n",
    "Violation_time.loc[(Violation_time['Temp']>= vt_7)& (Violation_time['Temp'] < vt_8),'Violation_time'] = 7\n",
    "Violation_time.loc[(Violation_time['Temp']>= vt_8)& (Violation_time['Temp'] < vt_9),'Violation_time'] = 8\n",
    "\n",
    "Violation_time = Violation_time.iloc[:,1]\n",
    "# Violation_time = pd.concat([pd.Series(['Violation Time']), Violation_time],axis=0)\n",
    "print(Violation_time.shape)\n",
    "# print(Violation_time)"
   ]
  },
  {
   "cell_type": "code",
   "execution_count": 240,
   "metadata": {},
   "outputs": [
    {
     "name": "stdout",
     "output_type": "stream",
     "text": [
      "(79983,)\n"
     ]
    }
   ],
   "source": [
    "Violation = data_train['Violation'].loc[1:].astype('category')\n",
    "Violation = Violation.cat.codes\n",
    "# print(dict(zip(Violation.cat.codes, Violation)))\n",
    "# print(Violation)\n",
    "# Violation = pd.concat([pd.Series(['Violation']), Violation],axis=0).values.reshape(-1)\n",
    "print(Violation.shape)"
   ]
  },
  {
   "cell_type": "code",
   "execution_count": 260,
   "metadata": {},
   "outputs": [],
   "source": [
    "Fine_amount = pd.to_numeric(data_train['Fine Amount'].loc[1:])\n",
    "# interval = pd.IntervalIndex(np.array([pd.interval_range(start=0, periods=5, freq=25.75,closed='left'),pd.Interval(left=128.75,right=515,closed='left')]))\n",
    "interval = [-0.001, 25.75,51.5,77.25,103,128.75,515]\n",
    "Fine_amount = pd.cut(Fine_amount,interval,labels=np.array([1,3,4,2,5,0]))\n",
    "# Fine_amount = pd.concat([pd.Series(['Fine Amount']), Fine_amount],axis=0)\n",
    "# print(Fine_amount)"
   ]
  },
  {
   "cell_type": "code",
   "execution_count": 261,
   "metadata": {},
   "outputs": [],
   "source": [
    "Interest_amount = pd.to_numeric(data_train['Interest Amount'].loc[1:])\n",
    "interval = [-0.001,13.75,275]\n",
    "Interest_amount = pd.cut(Interest_amount,interval,labels=np.array([1,0]))\n",
    "# Interest_amount = pd.concat([pd.Series(['Interest Amount']), Interest_amount],axis=0)\n",
    "# print(Interest_amount)"
   ]
  },
  {
   "cell_type": "code",
   "execution_count": 263,
   "metadata": {},
   "outputs": [],
   "source": [
    "Reduction_amount = pd.to_numeric(data_train['Reduction Amount'].loc[1:])\n",
    "# interval = pd.IntervalIndex(np.array([pd.interval_range(start=0, periods=5, freq=25.75,closed='left'),pd.Interval(left=128.75,right=515,closed='left')]))\n",
    "interval = [-0.001, 27.25,54.5,81.75,109,136.25,545]\n",
    "Reduction_amount = pd.cut(Reduction_amount,interval,labels=np.array([5,4,3,1,2,0]))\n",
    "# Reduction_amount = pd.concat([pd.Series(['Reduction Amount']), Reduction_amount],axis=0)\n",
    "# print(Reduction_amount)"
   ]
  },
  {
   "cell_type": "code",
   "execution_count": 265,
   "metadata": {},
   "outputs": [],
   "source": [
    "Payment_amount = pd.to_numeric(data_train['Payment Amount'].loc[1:])\n",
    "# interval = pd.IntervalIndex(np.array([pd.interval_range(start=0, periods=5, freq=25.75,closed='left'),pd.Interval(left=128.75,right=515,closed='left')]))\n",
    "interval = [-0.001, 34.45,68.91,103.36,137.81,172.26,206.72,689]\n",
    "Payment_amount = pd.cut(Payment_amount,interval,labels=np.array([6,4,3,5,1,2,0]))\n",
    "# Payment_amount = pd.concat([pd.Series(['Payment Amount']), Payment_amount],axis=0)\n",
    "# print(Payment_amount)"
   ]
  },
  {
   "cell_type": "code",
   "execution_count": 269,
   "metadata": {},
   "outputs": [],
   "source": [
    "Amount_due = pd.to_numeric(data_train['Amount Due'].loc[1:])\n",
    "# interval = pd.IntervalIndex(np.array([pd.interval_range(start=0, periods=5, freq=25.75,closed='left'),pd.Interval(left=128.75,right=515,closed='left')]))\n",
    "interval = [-0.001, 38.5,76.99,115.49,153.98,770]\n",
    "Amount_due = pd.cut(Amount_due,interval,labels=np.array([4,2,3,1,0]))\n",
    "# Amount_due = pd.concat([pd.Series(['Amount Due']), Amount_due],axis=0)\n",
    "# print(Amount_due)"
   ]
  },
  {
   "cell_type": "code",
   "execution_count": 276,
   "metadata": {},
   "outputs": [
    {
     "name": "stdout",
     "output_type": "stream",
     "text": [
      "1        3\n",
      "2        6\n",
      "3        2\n",
      "4        6\n",
      "5        5\n",
      "6        4\n",
      "7        6\n",
      "8        5\n",
      "9        6\n",
      "10       4\n",
      "11       6\n",
      "12       5\n",
      "13       6\n",
      "14       4\n",
      "15       2\n",
      "16       6\n",
      "17       6\n",
      "18       1\n",
      "19       4\n",
      "20       4\n",
      "21       6\n",
      "22       6\n",
      "23       5\n",
      "24       6\n",
      "25       6\n",
      "26       6\n",
      "27       2\n",
      "28       3\n",
      "29       5\n",
      "30       5\n",
      "        ..\n",
      "79971    6\n",
      "79972    6\n",
      "79973    4\n",
      "79974    3\n",
      "79975    5\n",
      "79976    5\n",
      "79977    3\n",
      "79978    2\n",
      "79979    6\n",
      "79980    6\n",
      "79981    5\n",
      "79982    6\n",
      "79983    6\n",
      "79984    5\n",
      "79985    5\n",
      "79986    6\n",
      "79987    2\n",
      "79988    6\n",
      "79989    4\n",
      "79990    3\n",
      "79991    6\n",
      "79992    6\n",
      "79993    5\n",
      "79994    3\n",
      "79995    6\n",
      "79996    6\n",
      "79997    5\n",
      "79998    3\n",
      "79999    6\n",
      "80000    4\n",
      "Name: Precinct, Length: 79982, dtype: category\n",
      "Categories (7, int64): [6 < 3 < 4 < 2 < 5 < 1 < 0]\n"
     ]
    }
   ],
   "source": [
    "Precinct = pd.to_numeric(data_train['Precinct'].loc[1:])\n",
    "# interval = pd.IntervalIndex(np.array([pd.interval_range(start=0, periods=5, freq=25.75,closed='left'),pd.Interval(left=128.75,right=515,closed='left')]))\n",
    "interval = [-0.001, 23.6,47.2,70.8,94.4,118,141.6,472]\n",
    "Precinct = pd.cut(Precinct,interval,labels=np.array([6,3,4,2,5,1,0]))\n",
    "# Precinct = pd.concat([pd.Series(['Precinct']), Precinct],axis=0)\n",
    "# print(Precinct)"
   ]
  },
  {
   "cell_type": "code",
   "execution_count": 274,
   "metadata": {},
   "outputs": [
    {
     "name": "stdout",
     "output_type": "stream",
     "text": [
      "(79983,)\n"
     ]
    }
   ],
   "source": [
    "County = data_train['County'].loc[1:].astype('category')\n",
    "County = County.cat.codes\n",
    "# print(dict(zip(Violation.cat.codes, Violation)))\n",
    "# print(County)\n",
    "# County = pd.concat([pd.Series(['County']),County],axis=0).values.reshape(-1)\n",
    "print(County.shape)"
   ]
  },
  {
   "cell_type": "code",
   "execution_count": null,
   "metadata": {},
   "outputs": [],
   "source": [
    "Issuing_agency = data_train['Issuing Agency'].loc[1:].astype('category')\n",
    "Issuing_agency = Issuing_agency.cat.codes\n",
    "# print(dict(zip(Violation.cat.codes, Violation)))\n",
    "# print(County)\n",
    "# County = pd.concat([pd.Series(['Issuing Agency']),County],axis=0).values.reshape(-1)\n",
    "print(County.shape)"
   ]
  },
  {
   "cell_type": "code",
   "execution_count": null,
   "metadata": {},
   "outputs": [],
   "source": [
    "from sklearn.svm import SVC\n",
    "clf =  SVC(C=100.0, kernel = 'linear', random_state=0)\n",
    "clf.fit(X_trn_new, Y_trn)"
   ]
  }
 ],
 "metadata": {
  "kernelspec": {
   "display_name": "Python 3",
   "language": "python",
   "name": "python3"
  },
  "language_info": {
   "codemirror_mode": {
    "name": "ipython",
    "version": 3
   },
   "file_extension": ".py",
   "mimetype": "text/x-python",
   "name": "python",
   "nbconvert_exporter": "python",
   "pygments_lexer": "ipython3",
   "version": "3.7.1"
  }
 },
 "nbformat": 4,
 "nbformat_minor": 2
}
