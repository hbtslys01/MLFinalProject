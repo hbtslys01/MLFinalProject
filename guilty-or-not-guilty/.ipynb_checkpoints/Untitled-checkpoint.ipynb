{
 "cells": [
  {
   "cell_type": "code",
   "execution_count": 16,
   "metadata": {},
   "outputs": [
    {
     "ename": "AttributeError",
     "evalue": "'numpy.ndarray' object has no attribute 'cat'",
     "output_type": "error",
     "traceback": [
      "\u001b[0;31m---------------------------------------------------------------------------\u001b[0m",
      "\u001b[0;31mAttributeError\u001b[0m                            Traceback (most recent call last)",
      "\u001b[0;32m<ipython-input-16-03cb8041a676>\u001b[0m in \u001b[0;36m<module>\u001b[0;34m\u001b[0m\n\u001b[1;32m     59\u001b[0m \u001b[0;34m\u001b[0m\u001b[0m\n\u001b[1;32m     60\u001b[0m \u001b[0;31m# State = State.cat.codes.values.reshape(-1,1)\u001b[0m\u001b[0;34m\u001b[0m\u001b[0;34m\u001b[0m\u001b[0;34m\u001b[0m\u001b[0m\n\u001b[0;32m---> 61\u001b[0;31m \u001b[0mprint\u001b[0m\u001b[0;34m(\u001b[0m\u001b[0mdict\u001b[0m\u001b[0;34m(\u001b[0m\u001b[0mzip\u001b[0m\u001b[0;34m(\u001b[0m\u001b[0mState\u001b[0m\u001b[0;34m.\u001b[0m\u001b[0mcat\u001b[0m\u001b[0;34m.\u001b[0m\u001b[0mcodes\u001b[0m\u001b[0;34m,\u001b[0m \u001b[0mState\u001b[0m\u001b[0;34m)\u001b[0m\u001b[0;34m)\u001b[0m\u001b[0;34m)\u001b[0m\u001b[0;34m\u001b[0m\u001b[0;34m\u001b[0m\u001b[0m\n\u001b[0m\u001b[1;32m     62\u001b[0m \u001b[0;31m# state = pd.concat([pd.Series(['State']), state],axis=0).values.reshape(-1)\u001b[0m\u001b[0;34m\u001b[0m\u001b[0;34m\u001b[0m\u001b[0;34m\u001b[0m\u001b[0m\n\u001b[1;32m     63\u001b[0m \u001b[0mprint\u001b[0m\u001b[0;34m(\u001b[0m\u001b[0mState\u001b[0m\u001b[0;34m.\u001b[0m\u001b[0mshape\u001b[0m\u001b[0;34m)\u001b[0m\u001b[0;34m\u001b[0m\u001b[0;34m\u001b[0m\u001b[0m\n",
      "\u001b[0;31mAttributeError\u001b[0m: 'numpy.ndarray' object has no attribute 'cat'"
     ]
    }
   ],
   "source": [
    "from sklearn.utils import shuffle\n",
    "import matplotlib.pyplot as plt\n",
    "from sklearn.svm import SVC\n",
    "import pandas as pd\n",
    "import numpy as np\n",
    "from datetime import datetime as dt\n",
    "import seaborn as sns\n",
    "\n",
    "\n",
    "\n",
    "#import matplotlib.pyplot as plt\n",
    "data_train = pd.read_csv('train.csv', header=None)  # read dataset\n",
    "data_train.columns = ['ID','Plate','State','License Type','Summons Number','Issue Date','Violation Time','Violation','Judgment Entry Date','Fine Amount','Penalty Amount','Interest Amount','Reduction Amount','Payment Amount','Amount Due','Precinct','County','Issuing Agency','Violation Status']\n",
    "#clean data\n",
    "data_train = data_train[data_train['Issue Date']!='02/29/2017']\n",
    "data_train = data_train[(pd.isna(data_train['Violation Time']) == False)]\n",
    "\n",
    "data_train['Violation Time'] = data_train['Violation Time'].astype('str')\n",
    "data_train = data_train[(data_train['Violation Time'] != '22:22P')]#(data_train['Violation Time'] != '09:36') & (data_train['Violation Time'] != '09:45')\n",
    "\n",
    "data_train = data_train.loc[(data_train['Violation Time'].str.len()>5)]\n",
    "# data_train = data_train[(data_train['Violation Time'])!='10:48A']\n",
    "data_train_y = data_train.iloc[:, -1]\n",
    "data_train_x = data_train.iloc[:, 0:-1]\n",
    "# data_test = pd.read_csv('test.csv', header=None)  # read dataset\n",
    "# data_test_y = data_test.iloc[:, -1]\n",
    "# data_test_x = data_test.iloc[:, 0:-1]\n",
    "# process_data(data_train)\n",
    "\n",
    "\n",
    "# print(data_train_y.describe())\n",
    "\n",
    "\n",
    "Y_train = data_train_y.loc[1:].astype('category')\n",
    "Y_train = Y_train.cat.codes.values\n",
    "# print(dict(zip(y.cat.codes, y)))\n",
    "# y = pd.concat([pd.Series(['Violation Status']), y],axis=0).values.reshape(-1)[1:]\n",
    "\n",
    "# sn = pd.Series(pd.to_numeric(data_train['Summons Number'].loc[1:]))\n",
    "# sn = pd.concat([pd.Series(['Summons Number']), sn],axis=0).values.reshape(-1)[1:]\n",
    "\n",
    "# plt.scatter(sn,y)\n",
    "# plt.title('Violation Status vs. Summons Number')\n",
    "# plt.xlabel('Summons Number')\n",
    "# plt.ylabel('Violation Status')\n",
    "# plt.show()\n",
    "\n",
    "\n",
    "State = data_train['State'].loc[1:].astype('category')\n",
    "State = State.apply(lambda x : 5 if x == 'NY' else 4 if x == 'NJ' else 3 if x == 'IN' else 2 if x == 'PA' else 1 if x == 'CT' else 0)\n",
    "State = State.values.reshape(-1,1)\n",
    "# print(State.describe())\n",
    "# t = State.loc[State!='NY']\n",
    "# t = t.loc[t!='NJ']\n",
    "# t = t.loc[t!='IN']\n",
    "# t = t.loc[t!='PA']\n",
    "# print(t.describe())\n",
    "\n",
    "\n",
    "# State = State.cat.codes.values.reshape(-1,1)\n",
    "# print(dict(zip(State.cat.codes, State)))\n",
    "# state = pd.concat([pd.Series(['State']), state],axis=0).values.reshape(-1)\n",
    "print(State.shape)\n",
    "\n",
    "License_type = data_train['License Type'].loc[1:].astype('category')\n",
    "License_type = License_type.cat.codes.values.reshape(-1,1)\n",
    "# License_type = pd.concat([pd.Series(['License Type']), License_type],axis=0).values.reshape(-1)\n",
    "print(License_type.shape)\n",
    "\n",
    "#convert date string to datetime. Can only process valid date.\n",
    "Issue_date = data_train['Issue Date'].loc[1:].apply(lambda x : dt.strptime(x, \"%m/%d/%Y\"))\n",
    "Issue_date = pd.concat([pd.Series(['Issue Date']), Issue_date],axis=0)#.values.reshape(-1)\n",
    "Issue_date_year = pd.to_numeric(Issue_date.loc[1:].apply(lambda x : dt.strftime(x, \"%Y\"))).values.reshape(-1,1)\n",
    "Issue_date_mon = pd.to_numeric(Issue_date.loc[1:].apply(lambda x : dt.strftime(x, \"%m\"))).values.reshape(-1,1)\n",
    "Issue_date_day = pd.to_numeric(Issue_date.loc[1:].apply(lambda x : dt.strftime(x, \"%d\"))).values.reshape(-1,1)\n",
    "\n",
    "print(Issue_date_year.shape)\n",
    "print(type(Issue_date_year[1][0]))\n"
   ]
  },
  {
   "cell_type": "code",
   "execution_count": 2,
   "metadata": {},
   "outputs": [
    {
     "name": "stdout",
     "output_type": "stream",
     "text": [
      "(79982, 1)\n",
      "<class 'numpy.ndarray'>\n",
      "<class 'numpy.int64'>\n"
     ]
    }
   ],
   "source": [
    "# def pro_vt(x):\n",
    "#     x = str(x) + \"M\"\n",
    "#     if x[0:2]==\"00\" and x[-2:]==\"AM\":\n",
    "#         x = \"12\"+x[2:]\n",
    "#     dt.strptime(x, \"%I:%M%p\")\n",
    "\n",
    "Violation_time = (data_train['Violation Time'].loc[1:]).apply(lambda x : x+\"M\")\n",
    "Violation_time = (Violation_time.loc[1:]).apply(lambda x : \"12\"+x[2:] if (x[0:2]==\"00\" and x[-2:]==\"AM\") else x)\n",
    "Violation_time = (Violation_time.loc[1:]).apply(lambda x : dt.strptime(x, \"%I:%M%p\"))\n",
    "# Violation_time = pd.concat([pd.Series(['Violation Time']),Violation_time], axis=1)\n",
    "# temp = Violation_time.copy()\n",
    "# Violation_time = pd.concat([temp, Violation_time], axis=1).iloc[1:,[1,3]]\n",
    "t=pd.Series(np.zeros(Violation_time.shape[0]),index=Violation_time.index)\n",
    "Violation_time = pd.concat([Violation_time,t], axis=1)\n",
    "Violation_time.columns=['Temp','Violation_time']\n",
    "vt_1 = pd.Timestamp(dt.strptime(\"12:00AM\", \"%I:%M%p\"))\n",
    "vt_2 = pd.Timestamp(dt.strptime(\"03:00AM\", \"%I:%M%p\"))\n",
    "vt_3 = pd.Timestamp(dt.strptime(\"06:00AM\", \"%I:%M%p\"))\n",
    "vt_4 = pd.Timestamp(dt.strptime(\"09:00AM\", \"%I:%M%p\"))\n",
    "vt_5 = pd.Timestamp(dt.strptime(\"12:00PM\", \"%I:%M%p\"))\n",
    "vt_6 = pd.Timestamp(dt.strptime(\"03:00PM\", \"%I:%M%p\"))\n",
    "vt_7 = pd.Timestamp(dt.strptime(\"06:00PM\", \"%I:%M%p\"))\n",
    "vt_8 = pd.Timestamp(dt.strptime(\"09:00PM\", \"%I:%M%p\"))\n",
    "vt_9 = pd.Timestamp(dt.strptime(\"11:59PM\", \"%I:%M%p\"))\n",
    "\n",
    "Violation_time.loc[(Violation_time['Temp']>= vt_1)& (Violation_time['Temp'] < vt_2),'Violation_time'] = 1\n",
    "Violation_time.loc[(Violation_time['Temp']>= vt_2)& (Violation_time['Temp'] < vt_3),'Violation_time'] = 2\n",
    "Violation_time.loc[(Violation_time['Temp']>= vt_3)& (Violation_time['Temp'] < vt_4),'Violation_time'] = 3\n",
    "Violation_time.loc[(Violation_time['Temp']>= vt_4)& (Violation_time['Temp'] < vt_5),'Violation_time'] = 4\n",
    "Violation_time.loc[(Violation_time['Temp']>= vt_5)& (Violation_time['Temp'] < vt_6),'Violation_time'] = 5\n",
    "Violation_time.loc[(Violation_time['Temp']>= vt_6)& (Violation_time['Temp'] < vt_7),'Violation_time'] = 6\n",
    "Violation_time.loc[(Violation_time['Temp']>= vt_7)& (Violation_time['Temp'] < vt_8),'Violation_time'] = 7\n",
    "Violation_time.loc[(Violation_time['Temp']>= vt_8)& (Violation_time['Temp'] < vt_9),'Violation_time'] = 8\n",
    "\n",
    "Violation_time = Violation_time.iloc[:,1].values.reshape(-1,1)\n",
    "# Violation_time = pd.concat([pd.Series(['Violation Time']), Violation_time],axis=0)\n",
    "print(Violation_time.shape)\n",
    "print(type(Violation_time))\n",
    "Violation_time=np.int64(Violation_time)\n",
    "print(type(Violation_time[1][0]))"
   ]
  },
  {
   "cell_type": "code",
   "execution_count": 3,
   "metadata": {},
   "outputs": [
    {
     "name": "stdout",
     "output_type": "stream",
     "text": [
      "(79982, 1)\n",
      "<class 'numpy.int8'>\n"
     ]
    }
   ],
   "source": [
    "Violation = data_train['Violation'].loc[1:].astype('category')\n",
    "Violation = Violation.cat.codes.values.reshape(-1,1)\n",
    "# print(dict(zip(Violation.cat.codes, Violation)))\n",
    "# print(Violation)\n",
    "# Violation = pd.concat([pd.Series(['Violation']), Violation],axis=0).values.reshape(-1)\n",
    "print(Violation.shape)\n",
    "print(type(Violation[1][0]))"
   ]
  },
  {
   "cell_type": "code",
   "execution_count": 4,
   "metadata": {},
   "outputs": [
    {
     "name": "stdout",
     "output_type": "stream",
     "text": [
      "(79982, 1)\n"
     ]
    }
   ],
   "source": [
    "Fine_amount = pd.to_numeric(data_train['Fine Amount'].loc[1:])\n",
    "# interval = pd.IntervalIndex(np.array([pd.interval_range(start=0, periods=5, freq=25.75,closed='left'),pd.Interval(left=128.75,right=515,closed='left')]))\n",
    "interval = [-0.001, 25.75,51.5,77.25,103,128.75,515]\n",
    "Fine_amount = pd.cut(Fine_amount,interval,labels=np.array([1,3,4,2,5,0])).cat.codes.values.reshape(-1,1)\n",
    "# Fine_amount = pd.concat([pd.Series(['Fine Amount']), Fine_amount],axis=0)\n",
    "print(Fine_amount.shape)"
   ]
  },
  {
   "cell_type": "code",
   "execution_count": 5,
   "metadata": {},
   "outputs": [
    {
     "name": "stdout",
     "output_type": "stream",
     "text": [
      "(79982, 1)\n"
     ]
    }
   ],
   "source": [
    "Penalty_amount = pd.to_numeric(data_train['Penalty Amount'].loc[1:])\n",
    "# interval = pd.IntervalIndex(np.array([pd.interval_range(start=0, periods=5, freq=25.75,closed='left'),pd.Interval(left=128.75,right=515,closed='left')]))\n",
    "interval = [-0.001,3,12,27,33,60]\n",
    "Penalty_amount = pd.cut(Penalty_amount,interval,labels=np.array([4,3,0,1,2])).cat.codes.values.reshape(-1,1)\n",
    "# Penalty_amount = pd.concat([pd.Series(['Penalty Amount']), Penalty_amount],axis=0)\n",
    "print(Penalty_amount.shape)"
   ]
  },
  {
   "cell_type": "code",
   "execution_count": 6,
   "metadata": {},
   "outputs": [
    {
     "name": "stdout",
     "output_type": "stream",
     "text": [
      "(79982, 1)\n"
     ]
    }
   ],
   "source": [
    "Interest_amount = pd.to_numeric(data_train['Interest Amount'].loc[1:])\n",
    "interval = [-0.001,13.75,275]\n",
    "Interest_amount = pd.cut(Interest_amount,interval,labels=np.array([1,0])).cat.codes.values.reshape(-1,1)\n",
    "# Interest_amount = pd.concat([pd.Series(['Interest Amount']), Interest_amount],axis=0)\n",
    "print(Interest_amount.shape)"
   ]
  },
  {
   "cell_type": "code",
   "execution_count": 7,
   "metadata": {},
   "outputs": [
    {
     "name": "stdout",
     "output_type": "stream",
     "text": [
      "(79982, 1)\n"
     ]
    }
   ],
   "source": [
    "Reduction_amount = pd.to_numeric(data_train['Reduction Amount'].loc[1:])\n",
    "# interval = pd.IntervalIndex(np.array([pd.interval_range(start=0, periods=5, freq=25.75,closed='left'),pd.Interval(left=128.75,right=515,closed='left')]))\n",
    "interval = [-0.001, 27.25,54.5,81.75,109,136.25,545]\n",
    "Reduction_amount = pd.cut(Reduction_amount,interval,labels=np.array([5,4,3,1,2,0])).cat.codes.values.reshape(-1,1)\n",
    "# Reduction_amount = pd.concat([pd.Series(['Reduction Amount']), Reduction_amount],axis=0)\n",
    "print(Reduction_amount.shape)"
   ]
  },
  {
   "cell_type": "code",
   "execution_count": 8,
   "metadata": {},
   "outputs": [
    {
     "name": "stdout",
     "output_type": "stream",
     "text": [
      "(79982, 1)\n"
     ]
    }
   ],
   "source": [
    "Payment_amount = pd.to_numeric(data_train['Payment Amount'].loc[1:])\n",
    "# interval = pd.IntervalIndex(np.array([pd.interval_range(start=0, periods=5, freq=25.75,closed='left'),pd.Interval(left=128.75,right=515,closed='left')]))\n",
    "interval = [-0.001, 34.45,68.91,103.36,137.81,172.26,206.72,689]\n",
    "Payment_amount = pd.cut(Payment_amount,interval,labels=np.array([6,4,3,5,1,2,0])).cat.codes.values.reshape(-1,1)\n",
    "# Payment_amount = pd.concat([pd.Series(['Payment Amount']), Payment_amount],axis=0)\n",
    "print(Payment_amount.shape)"
   ]
  },
  {
   "cell_type": "code",
   "execution_count": 9,
   "metadata": {},
   "outputs": [
    {
     "name": "stdout",
     "output_type": "stream",
     "text": [
      "(79982, 1)\n"
     ]
    }
   ],
   "source": [
    "Amount_due = pd.to_numeric(data_train['Amount Due'].loc[1:])\n",
    "# interval = pd.IntervalIndex(np.array([pd.interval_range(start=0, periods=5, freq=25.75,closed='left'),pd.Interval(left=128.75,right=515,closed='left')]))\n",
    "interval = [-0.001, 38.5,76.99,115.49,153.98,770]\n",
    "Amount_due = pd.cut(Amount_due,interval,labels=np.array([4,2,3,1,0])).cat.codes.values.reshape(-1,1)\n",
    "# Amount_due = pd.concat([pd.Series(['Amount Due']), Amount_due],axis=0)\n",
    "print(Amount_due.shape)"
   ]
  },
  {
   "cell_type": "code",
   "execution_count": 10,
   "metadata": {},
   "outputs": [
    {
     "name": "stdout",
     "output_type": "stream",
     "text": [
      "(79982, 1)\n"
     ]
    }
   ],
   "source": [
    "Precinct = pd.to_numeric(data_train['Precinct'].loc[1:])\n",
    "# interval = pd.IntervalIndex(np.array([pd.interval_range(start=0, periods=5, freq=25.75,closed='left'),pd.Interval(left=128.75,right=515,closed='left')]))\n",
    "interval = [-0.001, 23.6,47.2,70.8,94.4,118,141.6,472]\n",
    "Precinct = pd.cut(Precinct,interval,labels=np.array([6,3,4,2,5,1,0])).cat.codes.values.reshape(-1,1)\n",
    "# Precinct = pd.concat([pd.Series(['Precinct']), Precinct],axis=0)\n",
    "print(Precinct.shape)"
   ]
  },
  {
   "cell_type": "code",
   "execution_count": 11,
   "metadata": {},
   "outputs": [
    {
     "name": "stdout",
     "output_type": "stream",
     "text": [
      "(79982, 1)\n"
     ]
    }
   ],
   "source": [
    "County = data_train['County'].loc[1:].astype('category')\n",
    "County = County.cat.codes.values.reshape(-1,1)\n",
    "# print(dict(zip(Violation.cat.codes, Violation)))\n",
    "# print(County)\n",
    "# County = pd.concat([pd.Series(['County']),County],axis=0).values.reshape(-1)\n",
    "print(County.shape)"
   ]
  },
  {
   "cell_type": "code",
   "execution_count": 12,
   "metadata": {},
   "outputs": [
    {
     "name": "stdout",
     "output_type": "stream",
     "text": [
      "(79982, 1)\n"
     ]
    }
   ],
   "source": [
    "Issuing_agency = data_train['Issuing Agency'].loc[1:].astype('category')\n",
    "Issuing_agency = Issuing_agency.cat.codes.values.reshape(-1,1)\n",
    "# print(dict(zip(Violation.cat.codes, Violation)))\n",
    "# print(County)\n",
    "# Issuing_agency = pd.concat([pd.Series(['Issuing Agency']),Issuing_agency],axis=0).values.reshape(-1)\n",
    "print(Issuing_agency.shape)"
   ]
  },
  {
   "cell_type": "code",
   "execution_count": 13,
   "metadata": {},
   "outputs": [
    {
     "name": "stdout",
     "output_type": "stream",
     "text": [
      "(79982, 16)\n",
      "[[  38   30 2017    1   22    4    7    4    0    0    0    3    0    1\n",
      "     1   12]\n",
      " [  38   10 2016    9   30    4   19    2    0    0    1    0    0    0\n",
      "     4   12]\n",
      " [  38   30 2017    9   25    4    3    4    0    0    0    3    0    3\n",
      "     2   12]\n",
      " [  17   30 2017    2   15    4    3    4    0    0    4    0    0    0\n",
      "     4   12]\n",
      " [  38   30 2016    9    9    3   38    1    0    0    0    1    0    4\n",
      "     5   12]]\n"
     ]
    }
   ],
   "source": [
    "X_trn = np.concatenate([State,License_type,Issue_date_year,Issue_date_mon,Issue_date_day,Violation_time,Violation,\n",
    "Fine_amount,Penalty_amount,Interest_amount,Reduction_amount,Payment_amount,Amount_due,Precinct,County,Issuing_agency],axis=1)\n",
    "print(X_trn.shape)\n",
    "print(X_trn[0:5,:])"
   ]
  },
  {
   "cell_type": "code",
   "execution_count": 14,
   "metadata": {},
   "outputs": [
    {
     "name": "stdout",
     "output_type": "stream",
     "text": [
      "(79982,)\n"
     ]
    }
   ],
   "source": [
    "print(Y_train.shape)"
   ]
  },
  {
   "cell_type": "code",
   "execution_count": 15,
   "metadata": {},
   "outputs": [],
   "source": [
    "from sklearn.svm import SVC\n",
    "from sklearn.model_selection import train_test_split\n",
    "#print(State)\n",
    "#print(License_type)\n",
    "# X_tr = np.transpose(X_trn)\n",
    "# Y_tr = Y_train.reshape((1,Y_train.shape[0]))\n",
    "# print(X_tr.shape)\n",
    "# print(Y_tr.shape)\n",
    "X_training, X_validation, Y_training, Y_validation = train_test_split(X_trn, Y_train, test_size = 0.25, random_state = 1000)\n",
    "#print(X_trn.shape)"
   ]
  },
  {
   "cell_type": "code",
   "execution_count": 16,
   "metadata": {},
   "outputs": [],
   "source": [
    "# clf = SVC(C=100.0, kernel = 'linear', random_state=0)\n",
    "# clf.fit(X_trn, Y_trn)\n",
    "# print(clf.score(X_trn,Y_trn))"
   ]
  },
  {
   "cell_type": "code",
   "execution_count": 17,
   "metadata": {},
   "outputs": [
    {
     "name": "stdout",
     "output_type": "stream",
     "text": [
      "(59986, 16)\n"
     ]
    }
   ],
   "source": [
    "print(X_training.shape)\n"
   ]
  },
  {
   "cell_type": "code",
   "execution_count": 18,
   "metadata": {},
   "outputs": [
    {
     "name": "stdout",
     "output_type": "stream",
     "text": [
      "(59986,)\n"
     ]
    }
   ],
   "source": [
    "print(Y_training.shape)"
   ]
  },
  {
   "cell_type": "code",
   "execution_count": 19,
   "metadata": {},
   "outputs": [],
   "source": [
    "from sklearn.linear_model import LogisticRegression"
   ]
  },
  {
   "cell_type": "code",
   "execution_count": 20,
   "metadata": {},
   "outputs": [
    {
     "name": "stderr",
     "output_type": "stream",
     "text": [
      "/Users/liuyunshan/anaconda3/lib/python3.7/site-packages/sklearn/linear_model/sag.py:334: ConvergenceWarning: The max_iter was reached which means the coef_ did not converge\n",
      "  \"the coef_ did not converge\", ConvergenceWarning)\n"
     ]
    }
   ],
   "source": [
    "clf = LogisticRegression(penalty='l2',random_state=0, solver='sag',multi_class='multinomial').fit(X_training, Y_training)"
   ]
  },
  {
   "cell_type": "code",
   "execution_count": 21,
   "metadata": {},
   "outputs": [
    {
     "data": {
      "text/plain": [
       "0.7740639482545928"
      ]
     },
     "execution_count": 21,
     "metadata": {},
     "output_type": "execute_result"
    }
   ],
   "source": [
    "\n",
    "clf.score(X_training,Y_training)"
   ]
  },
  {
   "cell_type": "code",
   "execution_count": 25,
   "metadata": {},
   "outputs": [
    {
     "name": "stdout",
     "output_type": "stream",
     "text": [
      "Fitting 10 folds for each of 54 candidates, totalling 540 fits\n"
     ]
    },
    {
     "name": "stderr",
     "output_type": "stream",
     "text": [
      "/Users/liuyunshan/anaconda3/lib/python3.7/site-packages/sklearn/model_selection/_split.py:652: Warning: The least populated class in y has only 2 members, which is too few. The minimum number of members in any class cannot be less than n_splits=10.\n",
      "  % (min_groups, self.n_splits)), Warning)\n",
      "[Parallel(n_jobs=4)]: Using backend LokyBackend with 4 concurrent workers.\n",
      "[Parallel(n_jobs=4)]: Done  42 tasks      | elapsed:  5.3min\n",
      "[Parallel(n_jobs=4)]: Done 192 tasks      | elapsed: 18.0min\n"
     ]
    },
    {
     "ename": "KeyboardInterrupt",
     "evalue": "",
     "output_type": "error",
     "traceback": [
      "\u001b[0;31m---------------------------------------------------------------------------\u001b[0m",
      "\u001b[0;31mKeyboardInterrupt\u001b[0m                         Traceback (most recent call last)",
      "\u001b[0;32m<ipython-input-25-6391eddeddc4>\u001b[0m in \u001b[0;36m<module>\u001b[0;34m\u001b[0m\n\u001b[1;32m     18\u001b[0m \u001b[0mgsRFC\u001b[0m \u001b[0;34m=\u001b[0m \u001b[0mGridSearchCV\u001b[0m\u001b[0;34m(\u001b[0m\u001b[0mRFC\u001b[0m\u001b[0;34m,\u001b[0m\u001b[0mparam_grid\u001b[0m \u001b[0;34m=\u001b[0m \u001b[0mrf_param_grid\u001b[0m\u001b[0;34m,\u001b[0m \u001b[0mcv\u001b[0m\u001b[0;34m=\u001b[0m\u001b[0mkfold\u001b[0m\u001b[0;34m,\u001b[0m \u001b[0mscoring\u001b[0m\u001b[0;34m=\u001b[0m\u001b[0;34m\"accuracy\"\u001b[0m\u001b[0;34m,\u001b[0m \u001b[0mn_jobs\u001b[0m\u001b[0;34m=\u001b[0m \u001b[0;36m4\u001b[0m\u001b[0;34m,\u001b[0m \u001b[0mverbose\u001b[0m \u001b[0;34m=\u001b[0m \u001b[0;36m1\u001b[0m\u001b[0;34m)\u001b[0m\u001b[0;34m\u001b[0m\u001b[0;34m\u001b[0m\u001b[0m\n\u001b[1;32m     19\u001b[0m \u001b[0;34m\u001b[0m\u001b[0m\n\u001b[0;32m---> 20\u001b[0;31m \u001b[0mgsRFC\u001b[0m\u001b[0;34m.\u001b[0m\u001b[0mfit\u001b[0m\u001b[0;34m(\u001b[0m\u001b[0mX_training\u001b[0m\u001b[0;34m,\u001b[0m\u001b[0mY_training\u001b[0m\u001b[0;34m)\u001b[0m\u001b[0;34m\u001b[0m\u001b[0;34m\u001b[0m\u001b[0m\n\u001b[0m\u001b[1;32m     21\u001b[0m \u001b[0;34m\u001b[0m\u001b[0m\n\u001b[1;32m     22\u001b[0m \u001b[0mRFC_best\u001b[0m \u001b[0;34m=\u001b[0m \u001b[0mgsRFC\u001b[0m\u001b[0;34m.\u001b[0m\u001b[0mbest_estimator_\u001b[0m\u001b[0;34m\u001b[0m\u001b[0;34m\u001b[0m\u001b[0m\n",
      "\u001b[0;32m~/anaconda3/lib/python3.7/site-packages/sklearn/model_selection/_search.py\u001b[0m in \u001b[0;36mfit\u001b[0;34m(self, X, y, groups, **fit_params)\u001b[0m\n\u001b[1;32m    720\u001b[0m                 \u001b[0;32mreturn\u001b[0m \u001b[0mresults_container\u001b[0m\u001b[0;34m[\u001b[0m\u001b[0;36m0\u001b[0m\u001b[0;34m]\u001b[0m\u001b[0;34m\u001b[0m\u001b[0;34m\u001b[0m\u001b[0m\n\u001b[1;32m    721\u001b[0m \u001b[0;34m\u001b[0m\u001b[0m\n\u001b[0;32m--> 722\u001b[0;31m             \u001b[0mself\u001b[0m\u001b[0;34m.\u001b[0m\u001b[0m_run_search\u001b[0m\u001b[0;34m(\u001b[0m\u001b[0mevaluate_candidates\u001b[0m\u001b[0;34m)\u001b[0m\u001b[0;34m\u001b[0m\u001b[0;34m\u001b[0m\u001b[0m\n\u001b[0m\u001b[1;32m    723\u001b[0m \u001b[0;34m\u001b[0m\u001b[0m\n\u001b[1;32m    724\u001b[0m         \u001b[0mresults\u001b[0m \u001b[0;34m=\u001b[0m \u001b[0mresults_container\u001b[0m\u001b[0;34m[\u001b[0m\u001b[0;36m0\u001b[0m\u001b[0;34m]\u001b[0m\u001b[0;34m\u001b[0m\u001b[0;34m\u001b[0m\u001b[0m\n",
      "\u001b[0;32m~/anaconda3/lib/python3.7/site-packages/sklearn/model_selection/_search.py\u001b[0m in \u001b[0;36m_run_search\u001b[0;34m(self, evaluate_candidates)\u001b[0m\n\u001b[1;32m   1189\u001b[0m     \u001b[0;32mdef\u001b[0m \u001b[0m_run_search\u001b[0m\u001b[0;34m(\u001b[0m\u001b[0mself\u001b[0m\u001b[0;34m,\u001b[0m \u001b[0mevaluate_candidates\u001b[0m\u001b[0;34m)\u001b[0m\u001b[0;34m:\u001b[0m\u001b[0;34m\u001b[0m\u001b[0;34m\u001b[0m\u001b[0m\n\u001b[1;32m   1190\u001b[0m         \u001b[0;34m\"\"\"Search all candidates in param_grid\"\"\"\u001b[0m\u001b[0;34m\u001b[0m\u001b[0;34m\u001b[0m\u001b[0m\n\u001b[0;32m-> 1191\u001b[0;31m         \u001b[0mevaluate_candidates\u001b[0m\u001b[0;34m(\u001b[0m\u001b[0mParameterGrid\u001b[0m\u001b[0;34m(\u001b[0m\u001b[0mself\u001b[0m\u001b[0;34m.\u001b[0m\u001b[0mparam_grid\u001b[0m\u001b[0;34m)\u001b[0m\u001b[0;34m)\u001b[0m\u001b[0;34m\u001b[0m\u001b[0;34m\u001b[0m\u001b[0m\n\u001b[0m\u001b[1;32m   1192\u001b[0m \u001b[0;34m\u001b[0m\u001b[0m\n\u001b[1;32m   1193\u001b[0m \u001b[0;34m\u001b[0m\u001b[0m\n",
      "\u001b[0;32m~/anaconda3/lib/python3.7/site-packages/sklearn/model_selection/_search.py\u001b[0m in \u001b[0;36mevaluate_candidates\u001b[0;34m(candidate_params)\u001b[0m\n\u001b[1;32m    709\u001b[0m                                \u001b[0;32mfor\u001b[0m \u001b[0mparameters\u001b[0m\u001b[0;34m,\u001b[0m \u001b[0;34m(\u001b[0m\u001b[0mtrain\u001b[0m\u001b[0;34m,\u001b[0m \u001b[0mtest\u001b[0m\u001b[0;34m)\u001b[0m\u001b[0;34m\u001b[0m\u001b[0;34m\u001b[0m\u001b[0m\n\u001b[1;32m    710\u001b[0m                                in product(candidate_params,\n\u001b[0;32m--> 711\u001b[0;31m                                           cv.split(X, y, groups)))\n\u001b[0m\u001b[1;32m    712\u001b[0m \u001b[0;34m\u001b[0m\u001b[0m\n\u001b[1;32m    713\u001b[0m                 \u001b[0mall_candidate_params\u001b[0m\u001b[0;34m.\u001b[0m\u001b[0mextend\u001b[0m\u001b[0;34m(\u001b[0m\u001b[0mcandidate_params\u001b[0m\u001b[0;34m)\u001b[0m\u001b[0;34m\u001b[0m\u001b[0;34m\u001b[0m\u001b[0m\n",
      "\u001b[0;32m~/anaconda3/lib/python3.7/site-packages/sklearn/externals/joblib/parallel.py\u001b[0m in \u001b[0;36m__call__\u001b[0;34m(self, iterable)\u001b[0m\n\u001b[1;32m    928\u001b[0m \u001b[0;34m\u001b[0m\u001b[0m\n\u001b[1;32m    929\u001b[0m             \u001b[0;32mwith\u001b[0m \u001b[0mself\u001b[0m\u001b[0;34m.\u001b[0m\u001b[0m_backend\u001b[0m\u001b[0;34m.\u001b[0m\u001b[0mretrieval_context\u001b[0m\u001b[0;34m(\u001b[0m\u001b[0;34m)\u001b[0m\u001b[0;34m:\u001b[0m\u001b[0;34m\u001b[0m\u001b[0;34m\u001b[0m\u001b[0m\n\u001b[0;32m--> 930\u001b[0;31m                 \u001b[0mself\u001b[0m\u001b[0;34m.\u001b[0m\u001b[0mretrieve\u001b[0m\u001b[0;34m(\u001b[0m\u001b[0;34m)\u001b[0m\u001b[0;34m\u001b[0m\u001b[0;34m\u001b[0m\u001b[0m\n\u001b[0m\u001b[1;32m    931\u001b[0m             \u001b[0;31m# Make sure that we get a last message telling us we are done\u001b[0m\u001b[0;34m\u001b[0m\u001b[0;34m\u001b[0m\u001b[0;34m\u001b[0m\u001b[0m\n\u001b[1;32m    932\u001b[0m             \u001b[0melapsed_time\u001b[0m \u001b[0;34m=\u001b[0m \u001b[0mtime\u001b[0m\u001b[0;34m.\u001b[0m\u001b[0mtime\u001b[0m\u001b[0;34m(\u001b[0m\u001b[0;34m)\u001b[0m \u001b[0;34m-\u001b[0m \u001b[0mself\u001b[0m\u001b[0;34m.\u001b[0m\u001b[0m_start_time\u001b[0m\u001b[0;34m\u001b[0m\u001b[0;34m\u001b[0m\u001b[0m\n",
      "\u001b[0;32m~/anaconda3/lib/python3.7/site-packages/sklearn/externals/joblib/parallel.py\u001b[0m in \u001b[0;36mretrieve\u001b[0;34m(self)\u001b[0m\n\u001b[1;32m    831\u001b[0m             \u001b[0;32mtry\u001b[0m\u001b[0;34m:\u001b[0m\u001b[0;34m\u001b[0m\u001b[0;34m\u001b[0m\u001b[0m\n\u001b[1;32m    832\u001b[0m                 \u001b[0;32mif\u001b[0m \u001b[0mgetattr\u001b[0m\u001b[0;34m(\u001b[0m\u001b[0mself\u001b[0m\u001b[0;34m.\u001b[0m\u001b[0m_backend\u001b[0m\u001b[0;34m,\u001b[0m \u001b[0;34m'supports_timeout'\u001b[0m\u001b[0;34m,\u001b[0m \u001b[0;32mFalse\u001b[0m\u001b[0;34m)\u001b[0m\u001b[0;34m:\u001b[0m\u001b[0;34m\u001b[0m\u001b[0;34m\u001b[0m\u001b[0m\n\u001b[0;32m--> 833\u001b[0;31m                     \u001b[0mself\u001b[0m\u001b[0;34m.\u001b[0m\u001b[0m_output\u001b[0m\u001b[0;34m.\u001b[0m\u001b[0mextend\u001b[0m\u001b[0;34m(\u001b[0m\u001b[0mjob\u001b[0m\u001b[0;34m.\u001b[0m\u001b[0mget\u001b[0m\u001b[0;34m(\u001b[0m\u001b[0mtimeout\u001b[0m\u001b[0;34m=\u001b[0m\u001b[0mself\u001b[0m\u001b[0;34m.\u001b[0m\u001b[0mtimeout\u001b[0m\u001b[0;34m)\u001b[0m\u001b[0;34m)\u001b[0m\u001b[0;34m\u001b[0m\u001b[0;34m\u001b[0m\u001b[0m\n\u001b[0m\u001b[1;32m    834\u001b[0m                 \u001b[0;32melse\u001b[0m\u001b[0;34m:\u001b[0m\u001b[0;34m\u001b[0m\u001b[0;34m\u001b[0m\u001b[0m\n\u001b[1;32m    835\u001b[0m                     \u001b[0mself\u001b[0m\u001b[0;34m.\u001b[0m\u001b[0m_output\u001b[0m\u001b[0;34m.\u001b[0m\u001b[0mextend\u001b[0m\u001b[0;34m(\u001b[0m\u001b[0mjob\u001b[0m\u001b[0;34m.\u001b[0m\u001b[0mget\u001b[0m\u001b[0;34m(\u001b[0m\u001b[0;34m)\u001b[0m\u001b[0;34m)\u001b[0m\u001b[0;34m\u001b[0m\u001b[0;34m\u001b[0m\u001b[0m\n",
      "\u001b[0;32m~/anaconda3/lib/python3.7/site-packages/sklearn/externals/joblib/_parallel_backends.py\u001b[0m in \u001b[0;36mwrap_future_result\u001b[0;34m(future, timeout)\u001b[0m\n\u001b[1;32m    519\u001b[0m         AsyncResults.get from multiprocessing.\"\"\"\n\u001b[1;32m    520\u001b[0m         \u001b[0;32mtry\u001b[0m\u001b[0;34m:\u001b[0m\u001b[0;34m\u001b[0m\u001b[0;34m\u001b[0m\u001b[0m\n\u001b[0;32m--> 521\u001b[0;31m             \u001b[0;32mreturn\u001b[0m \u001b[0mfuture\u001b[0m\u001b[0;34m.\u001b[0m\u001b[0mresult\u001b[0m\u001b[0;34m(\u001b[0m\u001b[0mtimeout\u001b[0m\u001b[0;34m=\u001b[0m\u001b[0mtimeout\u001b[0m\u001b[0;34m)\u001b[0m\u001b[0;34m\u001b[0m\u001b[0;34m\u001b[0m\u001b[0m\n\u001b[0m\u001b[1;32m    522\u001b[0m         \u001b[0;32mexcept\u001b[0m \u001b[0mLokyTimeoutError\u001b[0m\u001b[0;34m:\u001b[0m\u001b[0;34m\u001b[0m\u001b[0;34m\u001b[0m\u001b[0m\n\u001b[1;32m    523\u001b[0m             \u001b[0;32mraise\u001b[0m \u001b[0mTimeoutError\u001b[0m\u001b[0;34m(\u001b[0m\u001b[0;34m)\u001b[0m\u001b[0;34m\u001b[0m\u001b[0;34m\u001b[0m\u001b[0m\n",
      "\u001b[0;32m~/anaconda3/lib/python3.7/concurrent/futures/_base.py\u001b[0m in \u001b[0;36mresult\u001b[0;34m(self, timeout)\u001b[0m\n\u001b[1;32m    425\u001b[0m                 \u001b[0;32mreturn\u001b[0m \u001b[0mself\u001b[0m\u001b[0;34m.\u001b[0m\u001b[0m__get_result\u001b[0m\u001b[0;34m(\u001b[0m\u001b[0;34m)\u001b[0m\u001b[0;34m\u001b[0m\u001b[0;34m\u001b[0m\u001b[0m\n\u001b[1;32m    426\u001b[0m \u001b[0;34m\u001b[0m\u001b[0m\n\u001b[0;32m--> 427\u001b[0;31m             \u001b[0mself\u001b[0m\u001b[0;34m.\u001b[0m\u001b[0m_condition\u001b[0m\u001b[0;34m.\u001b[0m\u001b[0mwait\u001b[0m\u001b[0;34m(\u001b[0m\u001b[0mtimeout\u001b[0m\u001b[0;34m)\u001b[0m\u001b[0;34m\u001b[0m\u001b[0;34m\u001b[0m\u001b[0m\n\u001b[0m\u001b[1;32m    428\u001b[0m \u001b[0;34m\u001b[0m\u001b[0m\n\u001b[1;32m    429\u001b[0m             \u001b[0;32mif\u001b[0m \u001b[0mself\u001b[0m\u001b[0;34m.\u001b[0m\u001b[0m_state\u001b[0m \u001b[0;32min\u001b[0m \u001b[0;34m[\u001b[0m\u001b[0mCANCELLED\u001b[0m\u001b[0;34m,\u001b[0m \u001b[0mCANCELLED_AND_NOTIFIED\u001b[0m\u001b[0;34m]\u001b[0m\u001b[0;34m:\u001b[0m\u001b[0;34m\u001b[0m\u001b[0;34m\u001b[0m\u001b[0m\n",
      "\u001b[0;32m~/anaconda3/lib/python3.7/threading.py\u001b[0m in \u001b[0;36mwait\u001b[0;34m(self, timeout)\u001b[0m\n\u001b[1;32m    294\u001b[0m         \u001b[0;32mtry\u001b[0m\u001b[0;34m:\u001b[0m    \u001b[0;31m# restore state no matter what (e.g., KeyboardInterrupt)\u001b[0m\u001b[0;34m\u001b[0m\u001b[0;34m\u001b[0m\u001b[0m\n\u001b[1;32m    295\u001b[0m             \u001b[0;32mif\u001b[0m \u001b[0mtimeout\u001b[0m \u001b[0;32mis\u001b[0m \u001b[0;32mNone\u001b[0m\u001b[0;34m:\u001b[0m\u001b[0;34m\u001b[0m\u001b[0;34m\u001b[0m\u001b[0m\n\u001b[0;32m--> 296\u001b[0;31m                 \u001b[0mwaiter\u001b[0m\u001b[0;34m.\u001b[0m\u001b[0macquire\u001b[0m\u001b[0;34m(\u001b[0m\u001b[0;34m)\u001b[0m\u001b[0;34m\u001b[0m\u001b[0;34m\u001b[0m\u001b[0m\n\u001b[0m\u001b[1;32m    297\u001b[0m                 \u001b[0mgotit\u001b[0m \u001b[0;34m=\u001b[0m \u001b[0;32mTrue\u001b[0m\u001b[0;34m\u001b[0m\u001b[0;34m\u001b[0m\u001b[0m\n\u001b[1;32m    298\u001b[0m             \u001b[0;32melse\u001b[0m\u001b[0;34m:\u001b[0m\u001b[0;34m\u001b[0m\u001b[0;34m\u001b[0m\u001b[0m\n",
      "\u001b[0;31mKeyboardInterrupt\u001b[0m: "
     ]
    }
   ],
   "source": [
    "from sklearn.neighbors import KNeighborsClassifier\n",
    "from sklearn.ensemble import RandomForestClassifier\n",
    "from sklearn.model_selection import GridSearchCV, StratifiedKFold\n",
    "# RFC Parameters tunning \n",
    "RFC = RandomForestClassifier()\n",
    "kfold = StratifiedKFold(n_splits=10)\n",
    "\n",
    "## Search grid for optimal parameters\n",
    "rf_param_grid = {\"max_depth\": [None],\n",
    "              \"max_features\": [1, 3, 10],\n",
    "              \"min_samples_split\": [2, 3, 10],\n",
    "              \"min_samples_leaf\": [1, 3, 10],\n",
    "              \"bootstrap\": [False],\n",
    "              \"n_estimators\" :[100,300],\n",
    "              \"criterion\": [\"gini\"]}\n",
    "\n",
    "\n",
    "gsRFC = GridSearchCV(RFC,param_grid = rf_param_grid, cv=kfold, scoring=\"accuracy\", n_jobs= 4, verbose = 1)\n",
    "\n",
    "gsRFC.fit(X_training,Y_training)\n",
    "\n",
    "RFC_best = gsRFC.best_estimator_\n",
    "\n",
    "# Best score\n",
    "gsRFC.best_score_"
   ]
  },
  {
   "cell_type": "code",
   "execution_count": null,
   "metadata": {},
   "outputs": [],
   "source": []
  }
 ],
 "metadata": {
  "kernelspec": {
   "display_name": "Python 3",
   "language": "python",
   "name": "python3"
  },
  "language_info": {
   "codemirror_mode": {
    "name": "ipython",
    "version": 3
   },
   "file_extension": ".py",
   "mimetype": "text/x-python",
   "name": "python",
   "nbconvert_exporter": "python",
   "pygments_lexer": "ipython3",
   "version": "3.7.1"
  }
 },
 "nbformat": 4,
 "nbformat_minor": 2
}
